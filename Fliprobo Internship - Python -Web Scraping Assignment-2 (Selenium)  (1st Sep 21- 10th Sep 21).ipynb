{
 "cells": [
  {
   "cell_type": "markdown",
   "metadata": {},
   "source": [
    "# Web Scraping Assignment-2 (Selenium)."
   ]
  },
  {
   "cell_type": "raw",
   "metadata": {},
   "source": [
    "Q:1"
   ]
  },
  {
   "cell_type": "code",
   "execution_count": 1,
   "metadata": {},
   "outputs": [
    {
     "name": "stdout",
     "output_type": "stream",
     "text": [
      "Requirement already satisfied: Selenium in c:\\users\\acer\\anaconda3\\lib\\site-packages (3.141.0)\n",
      "Requirement already satisfied: urllib3 in c:\\users\\acer\\anaconda3\\lib\\site-packages (from Selenium) (1.25.11)\n"
     ]
    }
   ],
   "source": [
    "!pip install Selenium"
   ]
  },
  {
   "cell_type": "code",
   "execution_count": 63,
   "metadata": {},
   "outputs": [],
   "source": [
    "import selenium\n",
    "import pandas as pd\n",
    "from selenium import webdriver"
   ]
  },
  {
   "cell_type": "code",
   "execution_count": 64,
   "metadata": {},
   "outputs": [],
   "source": [
    "driver= webdriver.Chrome(\"chromedriver.exe\")"
   ]
  },
  {
   "cell_type": "code",
   "execution_count": 65,
   "metadata": {},
   "outputs": [],
   "source": [
    "url='https://www.naukri.com/'\n",
    "driver.get(url)"
   ]
  },
  {
   "cell_type": "code",
   "execution_count": 66,
   "metadata": {},
   "outputs": [
    {
     "data": {
      "text/plain": [
       "<selenium.webdriver.remote.webelement.WebElement (session=\"11fe56851cc17897f37d8a81e6fda195\", element=\"23010dc1-d2db-416c-8ca6-9820f9b481ca\")>"
      ]
     },
     "execution_count": 66,
     "metadata": {},
     "output_type": "execute_result"
    }
   ],
   "source": [
    "search_job=driver.find_element_by_id('qsb-keyword-sugg')\n",
    "search_job"
   ]
  },
  {
   "cell_type": "code",
   "execution_count": 67,
   "metadata": {},
   "outputs": [],
   "source": [
    "search_job.send_keys('Data Analyst')"
   ]
  },
  {
   "cell_type": "code",
   "execution_count": 68,
   "metadata": {},
   "outputs": [
    {
     "data": {
      "text/plain": [
       "<selenium.webdriver.remote.webelement.WebElement (session=\"11fe56851cc17897f37d8a81e6fda195\", element=\"23010dc1-d2db-416c-8ca6-9820f9b481ca\")>"
      ]
     },
     "execution_count": 68,
     "metadata": {},
     "output_type": "execute_result"
    }
   ],
   "source": [
    "search_job=driver.find_element_by_xpath('//input[@class=\"sugInp\"]')\n",
    "search_job"
   ]
  },
  {
   "cell_type": "code",
   "execution_count": 69,
   "metadata": {},
   "outputs": [],
   "source": [
    "search_loc= driver.find_element_by_id('qsb-location-sugg')\n",
    "search_loc.send_keys('Bangalore')"
   ]
  },
  {
   "cell_type": "code",
   "execution_count": 70,
   "metadata": {},
   "outputs": [
    {
     "data": {
      "text/plain": [
       "<selenium.webdriver.remote.webelement.WebElement (session=\"11fe56851cc17897f37d8a81e6fda195\", element=\"d5b81680-d86e-457d-a2bb-77fcdcb76818\")>"
      ]
     },
     "execution_count": 70,
     "metadata": {},
     "output_type": "execute_result"
    }
   ],
   "source": [
    "search_loc=driver.find_element_by_xpath('//input[@name=\"location\"]')\n",
    "search_loc"
   ]
  },
  {
   "cell_type": "code",
   "execution_count": 71,
   "metadata": {},
   "outputs": [
    {
     "data": {
      "text/plain": [
       "<selenium.webdriver.remote.webelement.WebElement (session=\"11fe56851cc17897f37d8a81e6fda195\", element=\"0a865aa1-cee2-4784-8447-f86e3ff1ef21\")>"
      ]
     },
     "execution_count": 71,
     "metadata": {},
     "output_type": "execute_result"
    }
   ],
   "source": [
    "search_btn= driver.find_element_by_xpath('//button[@class=\"btn\"]')\n",
    "search_btn"
   ]
  },
  {
   "cell_type": "code",
   "execution_count": 72,
   "metadata": {},
   "outputs": [],
   "source": [
    "search_btn.click()"
   ]
  },
  {
   "cell_type": "code",
   "execution_count": 73,
   "metadata": {},
   "outputs": [
    {
     "data": {
      "text/plain": [
       "[<selenium.webdriver.remote.webelement.WebElement (session=\"11fe56851cc17897f37d8a81e6fda195\", element=\"b44e1a47-43de-4029-845e-94d94846cfa0\")>,\n",
       " <selenium.webdriver.remote.webelement.WebElement (session=\"11fe56851cc17897f37d8a81e6fda195\", element=\"88d03dd7-1f2a-4239-8330-3c72918e554b\")>,\n",
       " <selenium.webdriver.remote.webelement.WebElement (session=\"11fe56851cc17897f37d8a81e6fda195\", element=\"008a58b4-a1b0-4f57-a574-2f1f60f49044\")>,\n",
       " <selenium.webdriver.remote.webelement.WebElement (session=\"11fe56851cc17897f37d8a81e6fda195\", element=\"9005dfb8-9a9a-49c2-8942-6bf99fb036af\")>,\n",
       " <selenium.webdriver.remote.webelement.WebElement (session=\"11fe56851cc17897f37d8a81e6fda195\", element=\"989d7cf2-023c-4c56-a04b-68c80a8870eb\")>,\n",
       " <selenium.webdriver.remote.webelement.WebElement (session=\"11fe56851cc17897f37d8a81e6fda195\", element=\"8bf6e120-486c-49ee-9e6d-0f4e61424645\")>,\n",
       " <selenium.webdriver.remote.webelement.WebElement (session=\"11fe56851cc17897f37d8a81e6fda195\", element=\"1ca8e608-b62d-4cd1-b0bc-381ea7d3fd8b\")>,\n",
       " <selenium.webdriver.remote.webelement.WebElement (session=\"11fe56851cc17897f37d8a81e6fda195\", element=\"e95f4ff3-5360-4c62-8396-bf67b95c097b\")>,\n",
       " <selenium.webdriver.remote.webelement.WebElement (session=\"11fe56851cc17897f37d8a81e6fda195\", element=\"c98b61d3-99fe-45be-910a-a313eb32b0c2\")>,\n",
       " <selenium.webdriver.remote.webelement.WebElement (session=\"11fe56851cc17897f37d8a81e6fda195\", element=\"9d03d462-3269-4f72-b521-cd4445e2eee5\")>]"
      ]
     },
     "execution_count": 73,
     "metadata": {},
     "output_type": "execute_result"
    }
   ],
   "source": [
    "titles_tags= driver.find_elements_by_xpath(\"//a[@class='title fw500 ellipsis']\")[:10]\n",
    "titles_tags"
   ]
  },
  {
   "cell_type": "code",
   "execution_count": 74,
   "metadata": {},
   "outputs": [
    {
     "data": {
      "text/plain": [
       "['Senior Data Analyst IDAM Services',\n",
       " 'Data Analyst/Sr.Data Engineer',\n",
       " 'Business Data Analyst',\n",
       " 'Business Data Analyst',\n",
       " 'Business Data Analyst - Google Data Studio & SQL',\n",
       " 'Executive Data Analyst',\n",
       " 'Data Analyst - I/II',\n",
       " 'Data Analyst',\n",
       " 'Hiring For the role - DATA Analyst (Flipkart)',\n",
       " 'Hiring For the role - DATA Analyst (Flipkart)']"
      ]
     },
     "execution_count": 74,
     "metadata": {},
     "output_type": "execute_result"
    }
   ],
   "source": [
    "job_titles=[]\n",
    "for i in titles_tags:\n",
    "    job_titles.append(i.text)\n",
    "job_titles   "
   ]
  },
  {
   "cell_type": "code",
   "execution_count": 75,
   "metadata": {},
   "outputs": [
    {
     "data": {
      "text/plain": [
       "[<selenium.webdriver.remote.webelement.WebElement (session=\"11fe56851cc17897f37d8a81e6fda195\", element=\"19bf4b01-4383-47d0-9c18-3ace9a46be92\")>,\n",
       " <selenium.webdriver.remote.webelement.WebElement (session=\"11fe56851cc17897f37d8a81e6fda195\", element=\"c988e7e9-b92e-48f8-972e-099bfd4c09a6\")>,\n",
       " <selenium.webdriver.remote.webelement.WebElement (session=\"11fe56851cc17897f37d8a81e6fda195\", element=\"2b497673-d85b-4490-94cf-46b7ef980fab\")>,\n",
       " <selenium.webdriver.remote.webelement.WebElement (session=\"11fe56851cc17897f37d8a81e6fda195\", element=\"58c7948b-085e-446a-9d94-15ab1e14434f\")>,\n",
       " <selenium.webdriver.remote.webelement.WebElement (session=\"11fe56851cc17897f37d8a81e6fda195\", element=\"fbd929b7-91c6-47c3-b70e-88ffe86b8a99\")>,\n",
       " <selenium.webdriver.remote.webelement.WebElement (session=\"11fe56851cc17897f37d8a81e6fda195\", element=\"e31750dc-c6cb-4a76-8d8b-f9f8aba2f842\")>,\n",
       " <selenium.webdriver.remote.webelement.WebElement (session=\"11fe56851cc17897f37d8a81e6fda195\", element=\"118215a6-a423-4e46-a2b4-81773375a570\")>,\n",
       " <selenium.webdriver.remote.webelement.WebElement (session=\"11fe56851cc17897f37d8a81e6fda195\", element=\"e0150a7d-1473-4d59-b3cc-ba58df23c5b1\")>,\n",
       " <selenium.webdriver.remote.webelement.WebElement (session=\"11fe56851cc17897f37d8a81e6fda195\", element=\"b26b9501-bd6c-4f82-94bb-2c12476e5bcf\")>,\n",
       " <selenium.webdriver.remote.webelement.WebElement (session=\"11fe56851cc17897f37d8a81e6fda195\", element=\"7040c6c3-cb8c-46ce-a082-f2e6d1e4f250\")>]"
      ]
     },
     "execution_count": 75,
     "metadata": {},
     "output_type": "execute_result"
    }
   ],
   "source": [
    "job_location=driver.find_elements_by_xpath('//li[@class=\"fleft grey-text br2 placeHolderLi location\"]')[:10]\n",
    "job_location"
   ]
  },
  {
   "cell_type": "code",
   "execution_count": 76,
   "metadata": {},
   "outputs": [
    {
     "data": {
      "text/plain": [
       "['Bangalore/Bengaluru',\n",
       " 'Hyderabad/Secunderabad, Chennai, Bangalore/Bengaluru\\n(WFH during Covid)',\n",
       " 'Bangalore/Bengaluru',\n",
       " 'Bangalore/Bengaluru',\n",
       " 'Bangalore/Bengaluru',\n",
       " 'Bangalore/Bengaluru',\n",
       " 'Bangalore/Bengaluru',\n",
       " 'Bengaluru/Bangalore',\n",
       " 'Bangalore/Bengaluru(Bellandur)\\n(WFH during Covid)',\n",
       " 'Bangalore/Bengaluru(Bellandur)\\n(WFH during Covid)']"
      ]
     },
     "execution_count": 76,
     "metadata": {},
     "output_type": "execute_result"
    }
   ],
   "source": [
    "job_locations=[]\n",
    "for i in job_location:\n",
    "    job_locations.append(i.text)\n",
    "job_locations    "
   ]
  },
  {
   "cell_type": "code",
   "execution_count": 77,
   "metadata": {},
   "outputs": [
    {
     "data": {
      "text/plain": [
       "[<selenium.webdriver.remote.webelement.WebElement (session=\"11fe56851cc17897f37d8a81e6fda195\", element=\"3896208a-1023-4989-9484-1b87cc6c5757\")>,\n",
       " <selenium.webdriver.remote.webelement.WebElement (session=\"11fe56851cc17897f37d8a81e6fda195\", element=\"d2275017-736f-49ed-8ff7-604245a60366\")>,\n",
       " <selenium.webdriver.remote.webelement.WebElement (session=\"11fe56851cc17897f37d8a81e6fda195\", element=\"079b46fd-8a44-41ac-9bc1-867691291570\")>,\n",
       " <selenium.webdriver.remote.webelement.WebElement (session=\"11fe56851cc17897f37d8a81e6fda195\", element=\"a8b4d7ff-0c24-4490-b5ea-ea175a22ad70\")>,\n",
       " <selenium.webdriver.remote.webelement.WebElement (session=\"11fe56851cc17897f37d8a81e6fda195\", element=\"d7dabf7e-8f41-4d57-b386-2580e6faed23\")>,\n",
       " <selenium.webdriver.remote.webelement.WebElement (session=\"11fe56851cc17897f37d8a81e6fda195\", element=\"49176ffe-0135-4b52-a40b-33f029cfa491\")>,\n",
       " <selenium.webdriver.remote.webelement.WebElement (session=\"11fe56851cc17897f37d8a81e6fda195\", element=\"d9223463-b24d-45fb-b2e8-4abcab7d6b7f\")>,\n",
       " <selenium.webdriver.remote.webelement.WebElement (session=\"11fe56851cc17897f37d8a81e6fda195\", element=\"3fa755aa-5ea0-4506-b05f-40bc33b2b53c\")>,\n",
       " <selenium.webdriver.remote.webelement.WebElement (session=\"11fe56851cc17897f37d8a81e6fda195\", element=\"2fa6870a-3e60-4de9-8eda-a368067af40a\")>,\n",
       " <selenium.webdriver.remote.webelement.WebElement (session=\"11fe56851cc17897f37d8a81e6fda195\", element=\"08a03f6a-1be4-4feb-bbae-7b516860d89a\")>]"
      ]
     },
     "execution_count": 77,
     "metadata": {},
     "output_type": "execute_result"
    }
   ],
   "source": [
    "companies_name=driver.find_elements_by_xpath('//a[@class=\"subTitle ellipsis fleft\"]')[:10]\n",
    "companies_name"
   ]
  },
  {
   "cell_type": "code",
   "execution_count": 78,
   "metadata": {},
   "outputs": [
    {
     "data": {
      "text/plain": [
       "['GlaxoSmithKline Pharmaceuticals Limited',\n",
       " 'SYREN TECHNOLOGIES PRIVATE LIMITED',\n",
       " 'Trigent Software',\n",
       " 'Trigent Software',\n",
       " 'AVE-Promagne',\n",
       " 'Gokaldas Exports Ltd',\n",
       " 'Philips India Limited',\n",
       " 'IBM India Pvt. Limited',\n",
       " 'Allegis Services India Pvt. Ltd.',\n",
       " 'Allegis Services India Pvt. Ltd.']"
      ]
     },
     "execution_count": 78,
     "metadata": {},
     "output_type": "execute_result"
    }
   ],
   "source": [
    "companies_names=[]\n",
    "for i in companies_name:\n",
    "    companies_names.append(i.text)\n",
    "companies_names    "
   ]
  },
  {
   "cell_type": "code",
   "execution_count": 103,
   "metadata": {},
   "outputs": [
    {
     "data": {
      "text/plain": [
       "[<selenium.webdriver.remote.webelement.WebElement (session=\"4e91f7455297e529e3dd95ebbeee2cd3\", element=\"06528e01-6870-4ae7-8ed1-930ef45d4f20\")>,\n",
       " <selenium.webdriver.remote.webelement.WebElement (session=\"4e91f7455297e529e3dd95ebbeee2cd3\", element=\"ae8ea471-3b83-45b8-b622-0b985ca87c71\")>,\n",
       " <selenium.webdriver.remote.webelement.WebElement (session=\"4e91f7455297e529e3dd95ebbeee2cd3\", element=\"700eab98-682b-4cc8-87d7-30c7fcf86caf\")>,\n",
       " <selenium.webdriver.remote.webelement.WebElement (session=\"4e91f7455297e529e3dd95ebbeee2cd3\", element=\"f0934f47-7cc5-404f-94a4-97d8258e96d7\")>,\n",
       " <selenium.webdriver.remote.webelement.WebElement (session=\"4e91f7455297e529e3dd95ebbeee2cd3\", element=\"ecabd2c1-bac0-47f6-9de6-fe4d3d234246\")>,\n",
       " <selenium.webdriver.remote.webelement.WebElement (session=\"4e91f7455297e529e3dd95ebbeee2cd3\", element=\"bba7f68f-96be-47b9-96b7-821b1df231f8\")>,\n",
       " <selenium.webdriver.remote.webelement.WebElement (session=\"4e91f7455297e529e3dd95ebbeee2cd3\", element=\"290b2508-1540-49b5-9c3a-6b06c2ff0e3e\")>,\n",
       " <selenium.webdriver.remote.webelement.WebElement (session=\"4e91f7455297e529e3dd95ebbeee2cd3\", element=\"4101ac8c-8769-485e-94e5-8a1fa33177a8\")>,\n",
       " <selenium.webdriver.remote.webelement.WebElement (session=\"4e91f7455297e529e3dd95ebbeee2cd3\", element=\"311a4b73-6dc8-40b8-be77-83edbc1e25aa\")>,\n",
       " <selenium.webdriver.remote.webelement.WebElement (session=\"4e91f7455297e529e3dd95ebbeee2cd3\", element=\"1aa6879e-d72c-41ec-aeca-d398266b0671\")>]"
      ]
     },
     "execution_count": 103,
     "metadata": {},
     "output_type": "execute_result"
    }
   ],
   "source": [
    "experience_title=driver.find_elements_by_xpath('//li[@class=\"fleft grey-text br2 placeHolderLi experience\"]//span')[:10]\n",
    "experience_title"
   ]
  },
  {
   "cell_type": "code",
   "execution_count": 104,
   "metadata": {},
   "outputs": [
    {
     "data": {
      "text/plain": [
       "['5-9 Yrs',\n",
       " '3-5 Yrs',\n",
       " '3-7 Yrs',\n",
       " '7-12 Yrs',\n",
       " '5-10 Yrs',\n",
       " '6-8 Yrs',\n",
       " '2-4 Yrs',\n",
       " '6-8 Yrs',\n",
       " '6-8 Yrs',\n",
       " '6-11 Yrs']"
      ]
     },
     "execution_count": 104,
     "metadata": {},
     "output_type": "execute_result"
    }
   ],
   "source": [
    "experiences=[]\n",
    "for i in experience_title:\n",
    "    experiences.append(i.text)\n",
    "experiences    "
   ]
  },
  {
   "cell_type": "code",
   "execution_count": 105,
   "metadata": {},
   "outputs": [
    {
     "data": {
      "text/html": [
       "<div>\n",
       "<style scoped>\n",
       "    .dataframe tbody tr th:only-of-type {\n",
       "        vertical-align: middle;\n",
       "    }\n",
       "\n",
       "    .dataframe tbody tr th {\n",
       "        vertical-align: top;\n",
       "    }\n",
       "\n",
       "    .dataframe thead th {\n",
       "        text-align: right;\n",
       "    }\n",
       "</style>\n",
       "<table border=\"1\" class=\"dataframe\">\n",
       "  <thead>\n",
       "    <tr style=\"text-align: right;\">\n",
       "      <th></th>\n",
       "      <th>title</th>\n",
       "      <th>company</th>\n",
       "      <th>location</th>\n",
       "      <th>experience</th>\n",
       "    </tr>\n",
       "  </thead>\n",
       "  <tbody>\n",
       "    <tr>\n",
       "      <th>0</th>\n",
       "      <td>Lead Data Scientist BFSI</td>\n",
       "      <td>Bangalore/Bengaluru</td>\n",
       "      <td>GlaxoSmithKline Pharmaceuticals Limited</td>\n",
       "      <td>&lt;selenium.webdriver.remote.webelement.WebEleme...</td>\n",
       "    </tr>\n",
       "    <tr>\n",
       "      <th>1</th>\n",
       "      <td>Associate Data Scientist</td>\n",
       "      <td>Hyderabad/Secunderabad, Chennai, Bangalore/Ben...</td>\n",
       "      <td>SYREN TECHNOLOGIES PRIVATE LIMITED</td>\n",
       "      <td>&lt;selenium.webdriver.remote.webelement.WebEleme...</td>\n",
       "    </tr>\n",
       "    <tr>\n",
       "      <th>2</th>\n",
       "      <td>Data Scientist: Advanced Analytics</td>\n",
       "      <td>Bangalore/Bengaluru</td>\n",
       "      <td>Trigent Software</td>\n",
       "      <td>&lt;selenium.webdriver.remote.webelement.WebEleme...</td>\n",
       "    </tr>\n",
       "    <tr>\n",
       "      <th>3</th>\n",
       "      <td>Senior Data Scientist</td>\n",
       "      <td>Bangalore/Bengaluru</td>\n",
       "      <td>Trigent Software</td>\n",
       "      <td>&lt;selenium.webdriver.remote.webelement.WebEleme...</td>\n",
       "    </tr>\n",
       "    <tr>\n",
       "      <th>4</th>\n",
       "      <td>SENIOR DATA SCIENTIST</td>\n",
       "      <td>Bangalore/Bengaluru</td>\n",
       "      <td>AVE-Promagne</td>\n",
       "      <td>&lt;selenium.webdriver.remote.webelement.WebEleme...</td>\n",
       "    </tr>\n",
       "    <tr>\n",
       "      <th>5</th>\n",
       "      <td>Data Scientist (Python &amp; SQL)</td>\n",
       "      <td>Bangalore/Bengaluru</td>\n",
       "      <td>Gokaldas Exports Ltd</td>\n",
       "      <td>&lt;selenium.webdriver.remote.webelement.WebEleme...</td>\n",
       "    </tr>\n",
       "    <tr>\n",
       "      <th>6</th>\n",
       "      <td>Hiring For Data Scientist / Statistical Analyst</td>\n",
       "      <td>Bangalore/Bengaluru</td>\n",
       "      <td>Philips India Limited</td>\n",
       "      <td>&lt;selenium.webdriver.remote.webelement.WebEleme...</td>\n",
       "    </tr>\n",
       "    <tr>\n",
       "      <th>7</th>\n",
       "      <td>Sr Data Scientist</td>\n",
       "      <td>Bengaluru/Bangalore</td>\n",
       "      <td>IBM India Pvt. Limited</td>\n",
       "      <td>&lt;selenium.webdriver.remote.webelement.WebEleme...</td>\n",
       "    </tr>\n",
       "    <tr>\n",
       "      <th>8</th>\n",
       "      <td>Sr Data Scientist</td>\n",
       "      <td>Bangalore/Bengaluru(Bellandur)\\n(WFH during Co...</td>\n",
       "      <td>Allegis Services India Pvt. Ltd.</td>\n",
       "      <td>&lt;selenium.webdriver.remote.webelement.WebEleme...</td>\n",
       "    </tr>\n",
       "    <tr>\n",
       "      <th>9</th>\n",
       "      <td>Lead Data Scientist - Machine Learning/ Data M...</td>\n",
       "      <td>Bangalore/Bengaluru(Bellandur)\\n(WFH during Co...</td>\n",
       "      <td>Allegis Services India Pvt. Ltd.</td>\n",
       "      <td>&lt;selenium.webdriver.remote.webelement.WebEleme...</td>\n",
       "    </tr>\n",
       "  </tbody>\n",
       "</table>\n",
       "</div>"
      ],
      "text/plain": [
       "                                               title  \\\n",
       "0                           Lead Data Scientist BFSI   \n",
       "1                           Associate Data Scientist   \n",
       "2                 Data Scientist: Advanced Analytics   \n",
       "3                              Senior Data Scientist   \n",
       "4                              SENIOR DATA SCIENTIST   \n",
       "5                      Data Scientist (Python & SQL)   \n",
       "6    Hiring For Data Scientist / Statistical Analyst   \n",
       "7                                  Sr Data Scientist   \n",
       "8                                  Sr Data Scientist   \n",
       "9  Lead Data Scientist - Machine Learning/ Data M...   \n",
       "\n",
       "                                             company  \\\n",
       "0                                Bangalore/Bengaluru   \n",
       "1  Hyderabad/Secunderabad, Chennai, Bangalore/Ben...   \n",
       "2                                Bangalore/Bengaluru   \n",
       "3                                Bangalore/Bengaluru   \n",
       "4                                Bangalore/Bengaluru   \n",
       "5                                Bangalore/Bengaluru   \n",
       "6                                Bangalore/Bengaluru   \n",
       "7                                Bengaluru/Bangalore   \n",
       "8  Bangalore/Bengaluru(Bellandur)\\n(WFH during Co...   \n",
       "9  Bangalore/Bengaluru(Bellandur)\\n(WFH during Co...   \n",
       "\n",
       "                                  location  \\\n",
       "0  GlaxoSmithKline Pharmaceuticals Limited   \n",
       "1       SYREN TECHNOLOGIES PRIVATE LIMITED   \n",
       "2                         Trigent Software   \n",
       "3                         Trigent Software   \n",
       "4                             AVE-Promagne   \n",
       "5                     Gokaldas Exports Ltd   \n",
       "6                    Philips India Limited   \n",
       "7                   IBM India Pvt. Limited   \n",
       "8         Allegis Services India Pvt. Ltd.   \n",
       "9         Allegis Services India Pvt. Ltd.   \n",
       "\n",
       "                                          experience  \n",
       "0  <selenium.webdriver.remote.webelement.WebEleme...  \n",
       "1  <selenium.webdriver.remote.webelement.WebEleme...  \n",
       "2  <selenium.webdriver.remote.webelement.WebEleme...  \n",
       "3  <selenium.webdriver.remote.webelement.WebEleme...  \n",
       "4  <selenium.webdriver.remote.webelement.WebEleme...  \n",
       "5  <selenium.webdriver.remote.webelement.WebEleme...  \n",
       "6  <selenium.webdriver.remote.webelement.WebEleme...  \n",
       "7  <selenium.webdriver.remote.webelement.WebEleme...  \n",
       "8  <selenium.webdriver.remote.webelement.WebEleme...  \n",
       "9  <selenium.webdriver.remote.webelement.WebEleme...  "
      ]
     },
     "execution_count": 105,
     "metadata": {},
     "output_type": "execute_result"
    }
   ],
   "source": [
    "import pandas as pd\n",
    "\n",
    "Titles=pd.DataFrame({})\n",
    "Titles['title']=job_titles\n",
    "Titles['company']=job_locations  \n",
    "Titles['location']=companies_names \n",
    "Titles['experience']=experience_title\n",
    "\n",
    "Titles"
   ]
  },
  {
   "cell_type": "raw",
   "metadata": {},
   "source": [
    "Q.2"
   ]
  },
  {
   "cell_type": "code",
   "execution_count": 39,
   "metadata": {},
   "outputs": [],
   "source": [
    "import selenium\n",
    "import pandas as pd\n",
    "from selenium import webdriver"
   ]
  },
  {
   "cell_type": "code",
   "execution_count": 176,
   "metadata": {},
   "outputs": [],
   "source": [
    "driver= webdriver.Chrome(\"chromedriver.exe\")"
   ]
  },
  {
   "cell_type": "code",
   "execution_count": 177,
   "metadata": {},
   "outputs": [],
   "source": [
    "url= \"https://www.naukri.com/\"\n",
    "driver.get(url)"
   ]
  },
  {
   "cell_type": "code",
   "execution_count": 178,
   "metadata": {},
   "outputs": [
    {
     "data": {
      "text/plain": [
       "<selenium.webdriver.remote.webelement.WebElement (session=\"7de8bd7e39a0bfc4b6fd80a56326bde2\", element=\"fdda3def-b2f8-4356-b793-a052a7dcfb15\")>"
      ]
     },
     "execution_count": 178,
     "metadata": {},
     "output_type": "execute_result"
    }
   ],
   "source": [
    "search_job=driver.find_element_by_id('qsb-keyword-sugg')\n",
    "search_job"
   ]
  },
  {
   "cell_type": "code",
   "execution_count": 179,
   "metadata": {},
   "outputs": [],
   "source": [
    "search_job.send_keys('Data Scientist')"
   ]
  },
  {
   "cell_type": "code",
   "execution_count": 180,
   "metadata": {},
   "outputs": [
    {
     "data": {
      "text/plain": [
       "<selenium.webdriver.remote.webelement.WebElement (session=\"7de8bd7e39a0bfc4b6fd80a56326bde2\", element=\"fdda3def-b2f8-4356-b793-a052a7dcfb15\")>"
      ]
     },
     "execution_count": 180,
     "metadata": {},
     "output_type": "execute_result"
    }
   ],
   "source": [
    "search_job=driver.find_element_by_xpath('//input[@class=\"sugInp\"]')\n",
    "search_job"
   ]
  },
  {
   "cell_type": "code",
   "execution_count": 181,
   "metadata": {},
   "outputs": [],
   "source": [
    "search_loc=driver.find_element_by_id('qsb-location-sugg')\n",
    "search_loc.send_keys('Bangalore')"
   ]
  },
  {
   "cell_type": "code",
   "execution_count": 182,
   "metadata": {},
   "outputs": [
    {
     "data": {
      "text/plain": [
       "<selenium.webdriver.remote.webelement.WebElement (session=\"7de8bd7e39a0bfc4b6fd80a56326bde2\", element=\"7ad445b0-2c86-4281-9f95-d9b51d794c80\")>"
      ]
     },
     "execution_count": 182,
     "metadata": {},
     "output_type": "execute_result"
    }
   ],
   "source": [
    "search_loc=driver.find_element_by_xpath('//input[@name=\"location\"]')\n",
    "search_loc"
   ]
  },
  {
   "cell_type": "code",
   "execution_count": 183,
   "metadata": {},
   "outputs": [],
   "source": [
    "search_btn=driver.find_element_by_xpath('//button[@class=\"btn\"]')\n",
    "search_btn.click()"
   ]
  },
  {
   "cell_type": "code",
   "execution_count": 184,
   "metadata": {},
   "outputs": [
    {
     "data": {
      "text/plain": [
       "[<selenium.webdriver.remote.webelement.WebElement (session=\"7de8bd7e39a0bfc4b6fd80a56326bde2\", element=\"b6194db9-e18f-4d58-8f91-bf2dd4a9033f\")>,\n",
       " <selenium.webdriver.remote.webelement.WebElement (session=\"7de8bd7e39a0bfc4b6fd80a56326bde2\", element=\"56cbab71-b74f-4692-a41e-105e1503c9f5\")>,\n",
       " <selenium.webdriver.remote.webelement.WebElement (session=\"7de8bd7e39a0bfc4b6fd80a56326bde2\", element=\"4d2bebef-bed8-46d6-a260-ff65d71953b2\")>,\n",
       " <selenium.webdriver.remote.webelement.WebElement (session=\"7de8bd7e39a0bfc4b6fd80a56326bde2\", element=\"4479398f-0f04-4ba3-906c-d8d313f0c86b\")>,\n",
       " <selenium.webdriver.remote.webelement.WebElement (session=\"7de8bd7e39a0bfc4b6fd80a56326bde2\", element=\"42496712-805f-4986-b203-d0b7d398c409\")>,\n",
       " <selenium.webdriver.remote.webelement.WebElement (session=\"7de8bd7e39a0bfc4b6fd80a56326bde2\", element=\"8aa53f6c-d78e-4181-8ba9-6706bc882880\")>,\n",
       " <selenium.webdriver.remote.webelement.WebElement (session=\"7de8bd7e39a0bfc4b6fd80a56326bde2\", element=\"8323381f-cd57-4423-bcbd-e7f21d8cbaa3\")>,\n",
       " <selenium.webdriver.remote.webelement.WebElement (session=\"7de8bd7e39a0bfc4b6fd80a56326bde2\", element=\"5e61f5b0-ffcf-487f-8ff2-7fabd1f591dc\")>,\n",
       " <selenium.webdriver.remote.webelement.WebElement (session=\"7de8bd7e39a0bfc4b6fd80a56326bde2\", element=\"ca2ae4aa-5273-4aa7-a97f-e39f7e95b05c\")>,\n",
       " <selenium.webdriver.remote.webelement.WebElement (session=\"7de8bd7e39a0bfc4b6fd80a56326bde2\", element=\"0ba3a3b4-1b40-4277-b0b2-555ffd0da4bf\")>]"
      ]
     },
     "execution_count": 184,
     "metadata": {},
     "output_type": "execute_result"
    }
   ],
   "source": [
    "job_title= driver.find_elements_by_xpath('//a[@class=\"title fw500 ellipsis\"]')[:10]\n",
    "job_title"
   ]
  },
  {
   "cell_type": "code",
   "execution_count": 185,
   "metadata": {},
   "outputs": [
    {
     "data": {
      "text/plain": [
       "['Lead Data Scientist BFSI',\n",
       " 'Data Scientist: Advanced Analytics',\n",
       " 'Senior Data Scientist',\n",
       " 'SENIOR DATA SCIENTIST',\n",
       " 'Data Scientist (Python & SQL)',\n",
       " 'Hiring For Data Scientist / Statistical Analyst',\n",
       " 'Sr Data Scientist',\n",
       " 'Sr Data Scientist',\n",
       " 'Lead Data Scientist - Machine Learning/ Data Mining',\n",
       " 'Associate Data Scientist']"
      ]
     },
     "execution_count": 185,
     "metadata": {},
     "output_type": "execute_result"
    }
   ],
   "source": [
    "job_titles=[]\n",
    "\n",
    "for i in job_title:\n",
    "    job_titles.append(i.text)\n",
    "job_titles    "
   ]
  },
  {
   "cell_type": "code",
   "execution_count": 186,
   "metadata": {},
   "outputs": [
    {
     "data": {
      "text/plain": [
       "[<selenium.webdriver.remote.webelement.WebElement (session=\"7de8bd7e39a0bfc4b6fd80a56326bde2\", element=\"e9bba695-47e4-4cfa-b427-de934b2126df\")>,\n",
       " <selenium.webdriver.remote.webelement.WebElement (session=\"7de8bd7e39a0bfc4b6fd80a56326bde2\", element=\"fd192695-6768-4513-ae2d-4f55057a82c9\")>,\n",
       " <selenium.webdriver.remote.webelement.WebElement (session=\"7de8bd7e39a0bfc4b6fd80a56326bde2\", element=\"f5421410-cf1a-4ad4-921a-789bcfa0f094\")>,\n",
       " <selenium.webdriver.remote.webelement.WebElement (session=\"7de8bd7e39a0bfc4b6fd80a56326bde2\", element=\"002a9d82-dae2-4fca-83a0-a14642954559\")>,\n",
       " <selenium.webdriver.remote.webelement.WebElement (session=\"7de8bd7e39a0bfc4b6fd80a56326bde2\", element=\"5b223ea0-c759-48d2-94e5-2321cf936dcd\")>,\n",
       " <selenium.webdriver.remote.webelement.WebElement (session=\"7de8bd7e39a0bfc4b6fd80a56326bde2\", element=\"0bf64671-b5a4-4033-b273-ee4aabdd80e1\")>,\n",
       " <selenium.webdriver.remote.webelement.WebElement (session=\"7de8bd7e39a0bfc4b6fd80a56326bde2\", element=\"28274487-8e4d-431d-b256-5fbff5f3c088\")>,\n",
       " <selenium.webdriver.remote.webelement.WebElement (session=\"7de8bd7e39a0bfc4b6fd80a56326bde2\", element=\"85b639b4-46a8-49d2-933f-5ddf1e1b8778\")>,\n",
       " <selenium.webdriver.remote.webelement.WebElement (session=\"7de8bd7e39a0bfc4b6fd80a56326bde2\", element=\"25a3b5bb-b914-4fdb-820d-a2b42de6d0e6\")>,\n",
       " <selenium.webdriver.remote.webelement.WebElement (session=\"7de8bd7e39a0bfc4b6fd80a56326bde2\", element=\"3ac023a9-3fcf-4a71-bb02-73db4b6129fe\")>]"
      ]
     },
     "execution_count": 186,
     "metadata": {},
     "output_type": "execute_result"
    }
   ],
   "source": [
    "location_title= driver.find_elements_by_xpath('//li[@class=\"fleft grey-text br2 placeHolderLi location\"]')[:10]\n",
    "location_title"
   ]
  },
  {
   "cell_type": "code",
   "execution_count": 187,
   "metadata": {},
   "outputs": [
    {
     "data": {
      "text/plain": [
       "['Bengaluru/Bangalore',\n",
       " 'Bengaluru/Bangalore',\n",
       " 'Bangalore/Bengaluru',\n",
       " 'Bangalore/Bengaluru',\n",
       " 'Hyderabad/Secunderabad, Chennai, Bangalore/Bengaluru',\n",
       " 'Bangalore/Bengaluru',\n",
       " 'Bengaluru/Bangalore',\n",
       " 'Bangalore/Bengaluru',\n",
       " 'Bangalore/Bengaluru',\n",
       " 'Bangalore/Bengaluru']"
      ]
     },
     "execution_count": 187,
     "metadata": {},
     "output_type": "execute_result"
    }
   ],
   "source": [
    "location_titles=[]\n",
    "\n",
    "for i in location_title:\n",
    "    location_titles.append(i.text)\n",
    "location_titles    "
   ]
  },
  {
   "cell_type": "code",
   "execution_count": 188,
   "metadata": {},
   "outputs": [
    {
     "data": {
      "text/plain": [
       "[<selenium.webdriver.remote.webelement.WebElement (session=\"7de8bd7e39a0bfc4b6fd80a56326bde2\", element=\"539f06ba-4f40-44a6-ae8f-aa046b670595\")>,\n",
       " <selenium.webdriver.remote.webelement.WebElement (session=\"7de8bd7e39a0bfc4b6fd80a56326bde2\", element=\"651e484b-81f1-4e4c-95ce-8f48a1cb3f54\")>,\n",
       " <selenium.webdriver.remote.webelement.WebElement (session=\"7de8bd7e39a0bfc4b6fd80a56326bde2\", element=\"3c33b07b-1fed-4e47-a932-b8e962bb29c7\")>,\n",
       " <selenium.webdriver.remote.webelement.WebElement (session=\"7de8bd7e39a0bfc4b6fd80a56326bde2\", element=\"8d0a2e50-a470-4068-9a3c-66557e302867\")>,\n",
       " <selenium.webdriver.remote.webelement.WebElement (session=\"7de8bd7e39a0bfc4b6fd80a56326bde2\", element=\"efc41a19-1fb5-4a5d-8f1a-feb3e4d1d134\")>,\n",
       " <selenium.webdriver.remote.webelement.WebElement (session=\"7de8bd7e39a0bfc4b6fd80a56326bde2\", element=\"9731b808-ee64-4c6e-b8ac-e30bfcac1fa1\")>,\n",
       " <selenium.webdriver.remote.webelement.WebElement (session=\"7de8bd7e39a0bfc4b6fd80a56326bde2\", element=\"e5e15d54-31f0-4b11-97dd-a7e375f26cd3\")>,\n",
       " <selenium.webdriver.remote.webelement.WebElement (session=\"7de8bd7e39a0bfc4b6fd80a56326bde2\", element=\"292a29bd-750b-47b7-a3c5-93cc47278e57\")>,\n",
       " <selenium.webdriver.remote.webelement.WebElement (session=\"7de8bd7e39a0bfc4b6fd80a56326bde2\", element=\"b2f094ac-52c4-416d-932e-fb16dd7572af\")>,\n",
       " <selenium.webdriver.remote.webelement.WebElement (session=\"7de8bd7e39a0bfc4b6fd80a56326bde2\", element=\"c655e974-51b9-4e68-a5ad-e83769a6e472\")>]"
      ]
     },
     "execution_count": 188,
     "metadata": {},
     "output_type": "execute_result"
    }
   ],
   "source": [
    "companies_title=driver.find_elements_by_xpath('//a[@class=\"subTitle ellipsis fleft\"]')[:10]\n",
    "companies_title"
   ]
  },
  {
   "cell_type": "code",
   "execution_count": 189,
   "metadata": {},
   "outputs": [
    {
     "data": {
      "text/plain": [
       "['IBM India Pvt. Limited',\n",
       " 'IBM India Pvt. Limited',\n",
       " 'Airbnb',\n",
       " 'Happiest Minds Technologies Pvt.Ltd',\n",
       " 'AVE-Promagne',\n",
       " 'ManpowerGroup Services India Private Limited',\n",
       " 'IBM India Pvt. Limited',\n",
       " 'IBM India Pvt. Limited',\n",
       " 'Wrackle Technologies Pvt Ltd',\n",
       " 'Philips India Limited']"
      ]
     },
     "execution_count": 189,
     "metadata": {},
     "output_type": "execute_result"
    }
   ],
   "source": [
    "companies_titles=[]\n",
    "\n",
    "for i in companies_title:\n",
    "    companies_titles.append(i.text)\n",
    "companies_titles    "
   ]
  },
  {
   "cell_type": "code",
   "execution_count": 102,
   "metadata": {},
   "outputs": [
    {
     "data": {
      "text/plain": [
       "[<selenium.webdriver.remote.webelement.WebElement (session=\"4e91f7455297e529e3dd95ebbeee2cd3\", element=\"9d833b6e-9742-4ff5-83d2-8d818590bb9e\")>,\n",
       " <selenium.webdriver.remote.webelement.WebElement (session=\"4e91f7455297e529e3dd95ebbeee2cd3\", element=\"23b69f91-eb97-40d9-81e9-ad94921157cd\")>,\n",
       " <selenium.webdriver.remote.webelement.WebElement (session=\"4e91f7455297e529e3dd95ebbeee2cd3\", element=\"c42541d9-d91c-4e24-bc66-64eb0a066d7a\")>,\n",
       " <selenium.webdriver.remote.webelement.WebElement (session=\"4e91f7455297e529e3dd95ebbeee2cd3\", element=\"e1645a85-794a-40ad-8edb-9be8734be5c2\")>,\n",
       " <selenium.webdriver.remote.webelement.WebElement (session=\"4e91f7455297e529e3dd95ebbeee2cd3\", element=\"87fbebe3-a0e4-43b8-9c64-8dfe12976944\")>,\n",
       " <selenium.webdriver.remote.webelement.WebElement (session=\"4e91f7455297e529e3dd95ebbeee2cd3\", element=\"cc9da43b-84e6-4271-8d96-ee55eae9ea35\")>,\n",
       " <selenium.webdriver.remote.webelement.WebElement (session=\"4e91f7455297e529e3dd95ebbeee2cd3\", element=\"3a5ac3a2-eab5-4bf9-998e-f0478c6e6847\")>,\n",
       " <selenium.webdriver.remote.webelement.WebElement (session=\"4e91f7455297e529e3dd95ebbeee2cd3\", element=\"51c05e60-291f-4731-8c3d-d8b11e172e84\")>,\n",
       " <selenium.webdriver.remote.webelement.WebElement (session=\"4e91f7455297e529e3dd95ebbeee2cd3\", element=\"789b115a-8c97-4f0f-8f9b-00ba5e301aeb\")>,\n",
       " <selenium.webdriver.remote.webelement.WebElement (session=\"4e91f7455297e529e3dd95ebbeee2cd3\", element=\"56eb90ed-037d-4a47-b62d-60989ddc9eed\")>]"
      ]
     },
     "execution_count": 102,
     "metadata": {},
     "output_type": "execute_result"
    }
   ],
   "source": [
    "job_description=driver.find_elements_by_xpath('//div[@class=\"job-description fs12 grey-text\"]')[:10]\n",
    "job_description"
   ]
  },
  {
   "cell_type": "code",
   "execution_count": 61,
   "metadata": {},
   "outputs": [
    {
     "data": {
      "text/plain": [
       "['IntroductionSoftware Developers at IBM are the backbone of our strategic initiatives to...',\n",
       " 'Use predictive modeling to increase and optimize customer experiences, revenue generati...',\n",
       " 'PhD / Masters in STEM-related fields with knowledge in Quantum ComputingRequired Techni...',\n",
       " 'Professional industry experience in a quantitative analysis role (7+ years preferred) C...',\n",
       " 'Should possess extensive knowledge of and experience in applying data mining and machin...',\n",
       " 'Required Technical and Professional Expertise• 6+ years of industry work experience in ...',\n",
       " 'At least 2 years of experience implementing Machine learning algorithms such as Random ...',\n",
       " 'Demonstrated extensive experience in building and deploying production quality models i...',\n",
       " 'Demonstrated extensive experience in building and deploying production quality models i...',\n",
       " 'BS/ MS/ PhD in Computer Science, Statistics, Applied Math, or related areas from Premie...']"
      ]
     },
     "execution_count": 61,
     "metadata": {},
     "output_type": "execute_result"
    }
   ],
   "source": [
    "job_desc=[]\n",
    "for i in job_description:\n",
    "    job_desc.append(i.text)\n",
    "job_desc    "
   ]
  },
  {
   "cell_type": "code",
   "execution_count": 62,
   "metadata": {},
   "outputs": [
    {
     "data": {
      "text/html": [
       "<div>\n",
       "<style scoped>\n",
       "    .dataframe tbody tr th:only-of-type {\n",
       "        vertical-align: middle;\n",
       "    }\n",
       "\n",
       "    .dataframe tbody tr th {\n",
       "        vertical-align: top;\n",
       "    }\n",
       "\n",
       "    .dataframe thead th {\n",
       "        text-align: right;\n",
       "    }\n",
       "</style>\n",
       "<table border=\"1\" class=\"dataframe\">\n",
       "  <thead>\n",
       "    <tr style=\"text-align: right;\">\n",
       "      <th></th>\n",
       "      <th>Title</th>\n",
       "      <th>Location</th>\n",
       "      <th>Company Name</th>\n",
       "      <th>Job Desc</th>\n",
       "    </tr>\n",
       "  </thead>\n",
       "  <tbody>\n",
       "    <tr>\n",
       "      <th>0</th>\n",
       "      <td>Lead Data Scientist BFSI</td>\n",
       "      <td>Bengaluru/Bangalore</td>\n",
       "      <td>IBM India Pvt. Limited</td>\n",
       "      <td>IntroductionSoftware Developers at IBM are the...</td>\n",
       "    </tr>\n",
       "    <tr>\n",
       "      <th>1</th>\n",
       "      <td>Associate Data Scientist</td>\n",
       "      <td>Bangalore/Bengaluru</td>\n",
       "      <td>Philips India Limited</td>\n",
       "      <td>Use predictive modeling to increase and optimi...</td>\n",
       "    </tr>\n",
       "    <tr>\n",
       "      <th>2</th>\n",
       "      <td>Data Scientist: Advanced Analytics</td>\n",
       "      <td>Bengaluru/Bangalore</td>\n",
       "      <td>IBM India Pvt. Limited</td>\n",
       "      <td>PhD / Masters in STEM-related fields with know...</td>\n",
       "    </tr>\n",
       "    <tr>\n",
       "      <th>3</th>\n",
       "      <td>Senior Data Scientist</td>\n",
       "      <td>Bangalore/Bengaluru</td>\n",
       "      <td>Airbnb</td>\n",
       "      <td>Professional industry experience in a quantita...</td>\n",
       "    </tr>\n",
       "    <tr>\n",
       "      <th>4</th>\n",
       "      <td>SENIOR DATA SCIENTIST</td>\n",
       "      <td>Bangalore/Bengaluru</td>\n",
       "      <td>Happiest Minds Technologies Pvt.Ltd</td>\n",
       "      <td>Should possess extensive knowledge of and expe...</td>\n",
       "    </tr>\n",
       "    <tr>\n",
       "      <th>5</th>\n",
       "      <td>Data Scientist (Python &amp; SQL)</td>\n",
       "      <td>Hyderabad/Secunderabad, Chennai, Bangalore/Ben...</td>\n",
       "      <td>AVE-Promagne</td>\n",
       "      <td>Required Technical and Professional Expertise•...</td>\n",
       "    </tr>\n",
       "    <tr>\n",
       "      <th>6</th>\n",
       "      <td>Hiring For Data Scientist / Statistical Analyst</td>\n",
       "      <td>Bangalore/Bengaluru</td>\n",
       "      <td>ManpowerGroup Services India Private Limited</td>\n",
       "      <td>At least 2 years of experience implementing Ma...</td>\n",
       "    </tr>\n",
       "    <tr>\n",
       "      <th>7</th>\n",
       "      <td>Sr Data Scientist</td>\n",
       "      <td>Bengaluru/Bangalore</td>\n",
       "      <td>IBM India Pvt. Limited</td>\n",
       "      <td>Demonstrated extensive experience in building ...</td>\n",
       "    </tr>\n",
       "    <tr>\n",
       "      <th>8</th>\n",
       "      <td>Sr Data Scientist</td>\n",
       "      <td>Bangalore/Bengaluru</td>\n",
       "      <td>IBM India Pvt. Limited</td>\n",
       "      <td>Demonstrated extensive experience in building ...</td>\n",
       "    </tr>\n",
       "    <tr>\n",
       "      <th>9</th>\n",
       "      <td>Lead Data Scientist - Machine Learning/ Data M...</td>\n",
       "      <td>Bangalore/Bengaluru</td>\n",
       "      <td>Wrackle Technologies Pvt Ltd</td>\n",
       "      <td>BS/ MS/ PhD in Computer Science, Statistics, A...</td>\n",
       "    </tr>\n",
       "  </tbody>\n",
       "</table>\n",
       "</div>"
      ],
      "text/plain": [
       "                                               Title  \\\n",
       "0                           Lead Data Scientist BFSI   \n",
       "1                           Associate Data Scientist   \n",
       "2                 Data Scientist: Advanced Analytics   \n",
       "3                              Senior Data Scientist   \n",
       "4                              SENIOR DATA SCIENTIST   \n",
       "5                      Data Scientist (Python & SQL)   \n",
       "6    Hiring For Data Scientist / Statistical Analyst   \n",
       "7                                  Sr Data Scientist   \n",
       "8                                  Sr Data Scientist   \n",
       "9  Lead Data Scientist - Machine Learning/ Data M...   \n",
       "\n",
       "                                            Location  \\\n",
       "0                                Bengaluru/Bangalore   \n",
       "1                                Bangalore/Bengaluru   \n",
       "2                                Bengaluru/Bangalore   \n",
       "3                                Bangalore/Bengaluru   \n",
       "4                                Bangalore/Bengaluru   \n",
       "5  Hyderabad/Secunderabad, Chennai, Bangalore/Ben...   \n",
       "6                                Bangalore/Bengaluru   \n",
       "7                                Bengaluru/Bangalore   \n",
       "8                                Bangalore/Bengaluru   \n",
       "9                                Bangalore/Bengaluru   \n",
       "\n",
       "                                   Company Name  \\\n",
       "0                        IBM India Pvt. Limited   \n",
       "1                         Philips India Limited   \n",
       "2                        IBM India Pvt. Limited   \n",
       "3                                        Airbnb   \n",
       "4           Happiest Minds Technologies Pvt.Ltd   \n",
       "5                                  AVE-Promagne   \n",
       "6  ManpowerGroup Services India Private Limited   \n",
       "7                        IBM India Pvt. Limited   \n",
       "8                        IBM India Pvt. Limited   \n",
       "9                  Wrackle Technologies Pvt Ltd   \n",
       "\n",
       "                                            Job Desc  \n",
       "0  IntroductionSoftware Developers at IBM are the...  \n",
       "1  Use predictive modeling to increase and optimi...  \n",
       "2  PhD / Masters in STEM-related fields with know...  \n",
       "3  Professional industry experience in a quantita...  \n",
       "4  Should possess extensive knowledge of and expe...  \n",
       "5  Required Technical and Professional Expertise•...  \n",
       "6  At least 2 years of experience implementing Ma...  \n",
       "7  Demonstrated extensive experience in building ...  \n",
       "8  Demonstrated extensive experience in building ...  \n",
       "9  BS/ MS/ PhD in Computer Science, Statistics, A...  "
      ]
     },
     "execution_count": 62,
     "metadata": {},
     "output_type": "execute_result"
    }
   ],
   "source": [
    "import pandas as pd\n",
    "\n",
    "Jobs=pd.DataFrame({})\n",
    "Jobs['Title']=job_titles \n",
    "Jobs['Location']=location_titles\n",
    "Jobs['Company Name']=companies_titles \n",
    "Jobs['Job Desc']=job_desc\n",
    "\n",
    "Jobs"
   ]
  },
  {
   "cell_type": "raw",
   "metadata": {},
   "source": [
    "Q.3"
   ]
  },
  {
   "cell_type": "code",
   "execution_count": 106,
   "metadata": {},
   "outputs": [],
   "source": [
    "import selenium\n",
    "import pandas as pd\n",
    "from selenium import webdriver"
   ]
  },
  {
   "cell_type": "code",
   "execution_count": 121,
   "metadata": {},
   "outputs": [],
   "source": [
    "driver= webdriver.Chrome(\"chromedriver.exe\")"
   ]
  },
  {
   "cell_type": "code",
   "execution_count": 122,
   "metadata": {},
   "outputs": [],
   "source": [
    "url=\"https://www.naukri.com/\"\n",
    "driver.get(url)"
   ]
  },
  {
   "cell_type": "code",
   "execution_count": 123,
   "metadata": {},
   "outputs": [
    {
     "data": {
      "text/plain": [
       "<selenium.webdriver.remote.webelement.WebElement (session=\"a5ecc5ab8dbd26bea5ecbec8089e3796\", element=\"afc10d4c-09d1-42bf-8d9c-801994900665\")>"
      ]
     },
     "execution_count": 123,
     "metadata": {},
     "output_type": "execute_result"
    }
   ],
   "source": [
    "search_job=driver.find_element_by_id('qsb-keyword-sugg')\n",
    "search_job"
   ]
  },
  {
   "cell_type": "code",
   "execution_count": 124,
   "metadata": {},
   "outputs": [],
   "source": [
    "search_job.send_keys('Data Scientist')"
   ]
  },
  {
   "cell_type": "code",
   "execution_count": 125,
   "metadata": {},
   "outputs": [
    {
     "data": {
      "text/plain": [
       "<selenium.webdriver.remote.webelement.WebElement (session=\"a5ecc5ab8dbd26bea5ecbec8089e3796\", element=\"afc10d4c-09d1-42bf-8d9c-801994900665\")>"
      ]
     },
     "execution_count": 125,
     "metadata": {},
     "output_type": "execute_result"
    }
   ],
   "source": [
    "search_job=driver.find_element_by_xpath('//input[@class=\"sugInp\"]')\n",
    "search_job"
   ]
  },
  {
   "cell_type": "code",
   "execution_count": 126,
   "metadata": {},
   "outputs": [],
   "source": [
    "search_loc=driver.find_element_by_id('qsb-location-sugg')\n",
    "search_loc.send_keys('Delhi/NCR')"
   ]
  },
  {
   "cell_type": "code",
   "execution_count": 127,
   "metadata": {},
   "outputs": [
    {
     "data": {
      "text/plain": [
       "<selenium.webdriver.remote.webelement.WebElement (session=\"a5ecc5ab8dbd26bea5ecbec8089e3796\", element=\"40720ad4-abca-46c6-b544-763a2d98df70\")>"
      ]
     },
     "execution_count": 127,
     "metadata": {},
     "output_type": "execute_result"
    }
   ],
   "source": [
    "search_loc=driver.find_element_by_xpath('//input[@name=\"location\"]')\n",
    "search_loc"
   ]
  },
  {
   "cell_type": "code",
   "execution_count": 128,
   "metadata": {},
   "outputs": [],
   "source": [
    "search_btn=driver.find_element_by_xpath('//button[@class=\"btn\"]')\n",
    "search_btn.click()"
   ]
  },
  {
   "cell_type": "code",
   "execution_count": 129,
   "metadata": {},
   "outputs": [],
   "source": [
    "salary_filter=driver.find_element_by_xpath('//span[@title=\"3-6 Lakhs\"]')\n",
    "salary_filter.click()"
   ]
  },
  {
   "cell_type": "code",
   "execution_count": 130,
   "metadata": {},
   "outputs": [
    {
     "data": {
      "text/plain": [
       "[<selenium.webdriver.remote.webelement.WebElement (session=\"a5ecc5ab8dbd26bea5ecbec8089e3796\", element=\"f52013a5-f55c-4150-b87d-bd063a5e8ac1\")>,\n",
       " <selenium.webdriver.remote.webelement.WebElement (session=\"a5ecc5ab8dbd26bea5ecbec8089e3796\", element=\"0abea383-819b-4e98-881c-9f2e6c729598\")>,\n",
       " <selenium.webdriver.remote.webelement.WebElement (session=\"a5ecc5ab8dbd26bea5ecbec8089e3796\", element=\"6fcaac92-dcd7-42dc-a7b8-cbdfb582da02\")>,\n",
       " <selenium.webdriver.remote.webelement.WebElement (session=\"a5ecc5ab8dbd26bea5ecbec8089e3796\", element=\"abf9f3c8-ca93-4349-a8dc-64328cfc1ccc\")>,\n",
       " <selenium.webdriver.remote.webelement.WebElement (session=\"a5ecc5ab8dbd26bea5ecbec8089e3796\", element=\"f0ba7d25-d4c1-4fda-a51c-394c85d05f4b\")>,\n",
       " <selenium.webdriver.remote.webelement.WebElement (session=\"a5ecc5ab8dbd26bea5ecbec8089e3796\", element=\"3cbf125c-a059-4524-b64f-a9c092984f30\")>,\n",
       " <selenium.webdriver.remote.webelement.WebElement (session=\"a5ecc5ab8dbd26bea5ecbec8089e3796\", element=\"38c6f4b2-3aab-4437-a51e-9c00c4275813\")>,\n",
       " <selenium.webdriver.remote.webelement.WebElement (session=\"a5ecc5ab8dbd26bea5ecbec8089e3796\", element=\"2eecb444-22dd-4d77-b1d0-5749a1b83a3d\")>,\n",
       " <selenium.webdriver.remote.webelement.WebElement (session=\"a5ecc5ab8dbd26bea5ecbec8089e3796\", element=\"d4415165-e39c-47dd-b37b-301bc17fe155\")>,\n",
       " <selenium.webdriver.remote.webelement.WebElement (session=\"a5ecc5ab8dbd26bea5ecbec8089e3796\", element=\"9a0d6f67-679a-4380-91c4-d21720be476c\")>]"
      ]
     },
     "execution_count": 130,
     "metadata": {},
     "output_type": "execute_result"
    }
   ],
   "source": [
    "job_title= driver.find_elements_by_xpath('//a[@class=\"title fw500 ellipsis\"]')[:10]\n",
    "job_title"
   ]
  },
  {
   "cell_type": "code",
   "execution_count": 131,
   "metadata": {},
   "outputs": [
    {
     "data": {
      "text/plain": [
       "['Data Scientist / Data Analyst',\n",
       " 'Data Analyst/Data Scientist',\n",
       " 'Data Scientist',\n",
       " 'Only Fresher / Data Scientist / Data Analyst / Analytics - MNC Jobs',\n",
       " 'Data Scientist',\n",
       " 'Data Scientist - WFH - MIND Infotech',\n",
       " 'Immediate Openings For Data Scientist For Wipro C2H',\n",
       " 'Data Scientist/ Machine Learning Engineer',\n",
       " 'Data Scientist / Data Analyst / Business Analytics - MNC Jobs Freshers',\n",
       " 'Data Scientist']"
      ]
     },
     "execution_count": 131,
     "metadata": {},
     "output_type": "execute_result"
    }
   ],
   "source": [
    "job_titles=[]\n",
    "\n",
    "for i in job_title:\n",
    "    job_titles.append(i.text)\n",
    "job_titles "
   ]
  },
  {
   "cell_type": "code",
   "execution_count": 133,
   "metadata": {},
   "outputs": [
    {
     "data": {
      "text/plain": [
       "[<selenium.webdriver.remote.webelement.WebElement (session=\"a5ecc5ab8dbd26bea5ecbec8089e3796\", element=\"56f2c006-ad90-43cb-be17-a4ed4c5db65f\")>,\n",
       " <selenium.webdriver.remote.webelement.WebElement (session=\"a5ecc5ab8dbd26bea5ecbec8089e3796\", element=\"fcace00b-b285-473c-beb7-66e510278956\")>,\n",
       " <selenium.webdriver.remote.webelement.WebElement (session=\"a5ecc5ab8dbd26bea5ecbec8089e3796\", element=\"f42fe2f1-694e-4dda-b7a6-9aa9c256b88c\")>,\n",
       " <selenium.webdriver.remote.webelement.WebElement (session=\"a5ecc5ab8dbd26bea5ecbec8089e3796\", element=\"1499a42a-da62-403f-8c74-59c29c50ed78\")>,\n",
       " <selenium.webdriver.remote.webelement.WebElement (session=\"a5ecc5ab8dbd26bea5ecbec8089e3796\", element=\"ba69bba2-5103-498c-a17f-9ddd7791228b\")>,\n",
       " <selenium.webdriver.remote.webelement.WebElement (session=\"a5ecc5ab8dbd26bea5ecbec8089e3796\", element=\"6f1ec1b3-4997-4f19-b48c-a7f78f6ef096\")>,\n",
       " <selenium.webdriver.remote.webelement.WebElement (session=\"a5ecc5ab8dbd26bea5ecbec8089e3796\", element=\"b51e5e04-99ca-471b-a098-6c3a4a7d9813\")>,\n",
       " <selenium.webdriver.remote.webelement.WebElement (session=\"a5ecc5ab8dbd26bea5ecbec8089e3796\", element=\"b9b0addc-50bf-4e5a-933a-e63f7bc39edc\")>,\n",
       " <selenium.webdriver.remote.webelement.WebElement (session=\"a5ecc5ab8dbd26bea5ecbec8089e3796\", element=\"803ade45-f450-460d-9516-ae352d3a7fb5\")>,\n",
       " <selenium.webdriver.remote.webelement.WebElement (session=\"a5ecc5ab8dbd26bea5ecbec8089e3796\", element=\"83fc7cfa-9473-4139-a99f-dc1b5860ea5e\")>]"
      ]
     },
     "execution_count": 133,
     "metadata": {},
     "output_type": "execute_result"
    }
   ],
   "source": [
    "location_title= driver.find_elements_by_xpath('//li[@class=\"fleft grey-text br2 placeHolderLi location\"]//span')[:10]\n",
    "location_title"
   ]
  },
  {
   "cell_type": "code",
   "execution_count": 134,
   "metadata": {
    "scrolled": true
   },
   "outputs": [
    {
     "data": {
      "text/plain": [
       "['Gurgaon/Gurugram',\n",
       " 'Bangalore/Bengaluru, Delhi / NCR, Mumbai (All Areas)',\n",
       " 'Gurgaon/Gurugram',\n",
       " '(WFH during Covid)',\n",
       " 'Noida, Gurgaon/Gurugram, Delhi / NCR',\n",
       " 'Noida',\n",
       " '(WFH during Covid)',\n",
       " 'Pune, Chennai, Bangalore/Bengaluru, Delhi / NCR, Mumbai (All Areas)',\n",
       " 'Gurgaon/Gurugram',\n",
       " 'Mohali/SAS Nagar, Hyderabad/Secunderabad, Ahmedabad, Gurgaon/Gurugram, Chennai, Bangalore/Bengaluru']"
      ]
     },
     "execution_count": 134,
     "metadata": {},
     "output_type": "execute_result"
    }
   ],
   "source": [
    "location_titles=[]\n",
    "\n",
    "for i in location_title:\n",
    "    location_titles.append(i.text)\n",
    "location_titles "
   ]
  },
  {
   "cell_type": "code",
   "execution_count": 135,
   "metadata": {},
   "outputs": [
    {
     "data": {
      "text/plain": [
       "[<selenium.webdriver.remote.webelement.WebElement (session=\"a5ecc5ab8dbd26bea5ecbec8089e3796\", element=\"81205420-a92e-4cda-ad26-92b6286a5cd3\")>,\n",
       " <selenium.webdriver.remote.webelement.WebElement (session=\"a5ecc5ab8dbd26bea5ecbec8089e3796\", element=\"6caa1d36-b043-496d-a39b-8d09d86b9d27\")>,\n",
       " <selenium.webdriver.remote.webelement.WebElement (session=\"a5ecc5ab8dbd26bea5ecbec8089e3796\", element=\"e0e9cb39-4430-4f0c-b38d-775d20eed902\")>,\n",
       " <selenium.webdriver.remote.webelement.WebElement (session=\"a5ecc5ab8dbd26bea5ecbec8089e3796\", element=\"be528543-70b6-4031-a09b-4aa5228a93f2\")>,\n",
       " <selenium.webdriver.remote.webelement.WebElement (session=\"a5ecc5ab8dbd26bea5ecbec8089e3796\", element=\"f84a8d7e-86dd-4ed7-9669-edefab324e13\")>,\n",
       " <selenium.webdriver.remote.webelement.WebElement (session=\"a5ecc5ab8dbd26bea5ecbec8089e3796\", element=\"b948a861-0f62-4ac9-b784-0b9d46015ba3\")>,\n",
       " <selenium.webdriver.remote.webelement.WebElement (session=\"a5ecc5ab8dbd26bea5ecbec8089e3796\", element=\"c37d57b8-223c-4b37-ac78-26787f9dfc67\")>,\n",
       " <selenium.webdriver.remote.webelement.WebElement (session=\"a5ecc5ab8dbd26bea5ecbec8089e3796\", element=\"07429562-8183-4732-8fab-1110ffc4a234\")>,\n",
       " <selenium.webdriver.remote.webelement.WebElement (session=\"a5ecc5ab8dbd26bea5ecbec8089e3796\", element=\"b8a0ae7f-7b6b-4327-84fe-b7eb16ee8505\")>,\n",
       " <selenium.webdriver.remote.webelement.WebElement (session=\"a5ecc5ab8dbd26bea5ecbec8089e3796\", element=\"5393333d-5144-4305-bf0a-80d8bfa09e61\")>]"
      ]
     },
     "execution_count": 135,
     "metadata": {},
     "output_type": "execute_result"
    }
   ],
   "source": [
    "companies_title=driver.find_elements_by_xpath('//a[@class=\"subTitle ellipsis fleft\"]')[:10]\n",
    "companies_title"
   ]
  },
  {
   "cell_type": "code",
   "execution_count": 136,
   "metadata": {},
   "outputs": [
    {
     "data": {
      "text/plain": [
       "['CARS24',\n",
       " 'Skillenable Fintech Private Limited',\n",
       " 'PROCESS NINE TECHNOLOGIES PVT.LTD.',\n",
       " 'GABA Consultancy services',\n",
       " 'R Systems International Ltd.',\n",
       " 'MOTHERSONSUMI INFOTECH & DESIGNS LIMITED',\n",
       " 'IDESLABS PRIVATE LIMITED',\n",
       " 'Creative Hands HR Consultancy',\n",
       " 'GABA Consultancy services',\n",
       " 'Kusum Healthcare Pvt. Ltd.']"
      ]
     },
     "execution_count": 136,
     "metadata": {},
     "output_type": "execute_result"
    }
   ],
   "source": [
    "companies_titles=[]\n",
    "\n",
    "for i in companies_title:\n",
    "    companies_titles.append(i.text)\n",
    "companies_titles "
   ]
  },
  {
   "cell_type": "code",
   "execution_count": 137,
   "metadata": {},
   "outputs": [
    {
     "data": {
      "text/plain": [
       "[<selenium.webdriver.remote.webelement.WebElement (session=\"a5ecc5ab8dbd26bea5ecbec8089e3796\", element=\"de24f0e3-543c-4ecf-aaab-5663b90a41b6\")>,\n",
       " <selenium.webdriver.remote.webelement.WebElement (session=\"a5ecc5ab8dbd26bea5ecbec8089e3796\", element=\"f5024c60-2731-4291-9241-a121963b69f5\")>,\n",
       " <selenium.webdriver.remote.webelement.WebElement (session=\"a5ecc5ab8dbd26bea5ecbec8089e3796\", element=\"461a56f8-2971-4ad9-a58a-bf728a9113f0\")>,\n",
       " <selenium.webdriver.remote.webelement.WebElement (session=\"a5ecc5ab8dbd26bea5ecbec8089e3796\", element=\"dfb6f6aa-b573-4a9c-a13a-a6e924ae4d3f\")>,\n",
       " <selenium.webdriver.remote.webelement.WebElement (session=\"a5ecc5ab8dbd26bea5ecbec8089e3796\", element=\"0177f154-e252-495f-a0cc-9672bcfefd29\")>,\n",
       " <selenium.webdriver.remote.webelement.WebElement (session=\"a5ecc5ab8dbd26bea5ecbec8089e3796\", element=\"db84a917-8d7a-4d22-a129-b7ff267dd658\")>,\n",
       " <selenium.webdriver.remote.webelement.WebElement (session=\"a5ecc5ab8dbd26bea5ecbec8089e3796\", element=\"3769947a-6688-46d1-99a6-4d543be3b7e7\")>,\n",
       " <selenium.webdriver.remote.webelement.WebElement (session=\"a5ecc5ab8dbd26bea5ecbec8089e3796\", element=\"a742a7f1-447b-4b93-bc26-0d2ce55edc24\")>,\n",
       " <selenium.webdriver.remote.webelement.WebElement (session=\"a5ecc5ab8dbd26bea5ecbec8089e3796\", element=\"f9314f8f-ad13-437e-875d-11017f0e3d45\")>,\n",
       " <selenium.webdriver.remote.webelement.WebElement (session=\"a5ecc5ab8dbd26bea5ecbec8089e3796\", element=\"0c948166-e217-4b58-8763-0b6736317add\")>]"
      ]
     },
     "execution_count": 137,
     "metadata": {},
     "output_type": "execute_result"
    }
   ],
   "source": [
    "experience_title=driver.find_elements_by_xpath('//li[@class=\"fleft grey-text br2 placeHolderLi experience\"]//span')[:10]\n",
    "experience_title"
   ]
  },
  {
   "cell_type": "code",
   "execution_count": 138,
   "metadata": {},
   "outputs": [
    {
     "data": {
      "text/plain": [
       "['1-5 Yrs',\n",
       " '2-5 Yrs',\n",
       " '1-3 Yrs',\n",
       " '0-0 Yrs',\n",
       " '3-6 Yrs',\n",
       " '3-7 Yrs',\n",
       " '5-10 Yrs',\n",
       " '0-0 Yrs',\n",
       " '0-0 Yrs',\n",
       " '4-6 Yrs']"
      ]
     },
     "execution_count": 138,
     "metadata": {},
     "output_type": "execute_result"
    }
   ],
   "source": [
    "experiences=[]\n",
    "for i in experience_title:\n",
    "    experiences.append(i.text)\n",
    "experiences "
   ]
  },
  {
   "cell_type": "code",
   "execution_count": 139,
   "metadata": {},
   "outputs": [
    {
     "data": {
      "text/html": [
       "<div>\n",
       "<style scoped>\n",
       "    .dataframe tbody tr th:only-of-type {\n",
       "        vertical-align: middle;\n",
       "    }\n",
       "\n",
       "    .dataframe tbody tr th {\n",
       "        vertical-align: top;\n",
       "    }\n",
       "\n",
       "    .dataframe thead th {\n",
       "        text-align: right;\n",
       "    }\n",
       "</style>\n",
       "<table border=\"1\" class=\"dataframe\">\n",
       "  <thead>\n",
       "    <tr style=\"text-align: right;\">\n",
       "      <th></th>\n",
       "      <th>Title</th>\n",
       "      <th>Location</th>\n",
       "      <th>Company Name</th>\n",
       "      <th>Experiences</th>\n",
       "    </tr>\n",
       "  </thead>\n",
       "  <tbody>\n",
       "    <tr>\n",
       "      <th>0</th>\n",
       "      <td>Data Scientist / Data Analyst</td>\n",
       "      <td>Gurgaon/Gurugram</td>\n",
       "      <td>CARS24</td>\n",
       "      <td>1-5 Yrs</td>\n",
       "    </tr>\n",
       "    <tr>\n",
       "      <th>1</th>\n",
       "      <td>Data Analyst/Data Scientist</td>\n",
       "      <td>Bangalore/Bengaluru, Delhi / NCR, Mumbai (All ...</td>\n",
       "      <td>Skillenable Fintech Private Limited</td>\n",
       "      <td>2-5 Yrs</td>\n",
       "    </tr>\n",
       "    <tr>\n",
       "      <th>2</th>\n",
       "      <td>Data Scientist</td>\n",
       "      <td>Gurgaon/Gurugram</td>\n",
       "      <td>PROCESS NINE TECHNOLOGIES PVT.LTD.</td>\n",
       "      <td>1-3 Yrs</td>\n",
       "    </tr>\n",
       "    <tr>\n",
       "      <th>3</th>\n",
       "      <td>Only Fresher / Data Scientist / Data Analyst /...</td>\n",
       "      <td>(WFH during Covid)</td>\n",
       "      <td>GABA Consultancy services</td>\n",
       "      <td>0-0 Yrs</td>\n",
       "    </tr>\n",
       "    <tr>\n",
       "      <th>4</th>\n",
       "      <td>Data Scientist</td>\n",
       "      <td>Noida, Gurgaon/Gurugram, Delhi / NCR</td>\n",
       "      <td>R Systems International Ltd.</td>\n",
       "      <td>3-6 Yrs</td>\n",
       "    </tr>\n",
       "    <tr>\n",
       "      <th>5</th>\n",
       "      <td>Data Scientist - WFH - MIND Infotech</td>\n",
       "      <td>Noida</td>\n",
       "      <td>MOTHERSONSUMI INFOTECH &amp; DESIGNS LIMITED</td>\n",
       "      <td>3-7 Yrs</td>\n",
       "    </tr>\n",
       "    <tr>\n",
       "      <th>6</th>\n",
       "      <td>Immediate Openings For Data Scientist For Wipr...</td>\n",
       "      <td>(WFH during Covid)</td>\n",
       "      <td>IDESLABS PRIVATE LIMITED</td>\n",
       "      <td>5-10 Yrs</td>\n",
       "    </tr>\n",
       "    <tr>\n",
       "      <th>7</th>\n",
       "      <td>Data Scientist/ Machine Learning Engineer</td>\n",
       "      <td>Pune, Chennai, Bangalore/Bengaluru, Delhi / NC...</td>\n",
       "      <td>Creative Hands HR Consultancy</td>\n",
       "      <td>0-0 Yrs</td>\n",
       "    </tr>\n",
       "    <tr>\n",
       "      <th>8</th>\n",
       "      <td>Data Scientist / Data Analyst / Business Analy...</td>\n",
       "      <td>Gurgaon/Gurugram</td>\n",
       "      <td>GABA Consultancy services</td>\n",
       "      <td>0-0 Yrs</td>\n",
       "    </tr>\n",
       "    <tr>\n",
       "      <th>9</th>\n",
       "      <td>Data Scientist</td>\n",
       "      <td>Mohali/SAS Nagar, Hyderabad/Secunderabad, Ahme...</td>\n",
       "      <td>Kusum Healthcare Pvt. Ltd.</td>\n",
       "      <td>4-6 Yrs</td>\n",
       "    </tr>\n",
       "  </tbody>\n",
       "</table>\n",
       "</div>"
      ],
      "text/plain": [
       "                                               Title  \\\n",
       "0                      Data Scientist / Data Analyst   \n",
       "1                        Data Analyst/Data Scientist   \n",
       "2                                     Data Scientist   \n",
       "3  Only Fresher / Data Scientist / Data Analyst /...   \n",
       "4                                     Data Scientist   \n",
       "5               Data Scientist - WFH - MIND Infotech   \n",
       "6  Immediate Openings For Data Scientist For Wipr...   \n",
       "7          Data Scientist/ Machine Learning Engineer   \n",
       "8  Data Scientist / Data Analyst / Business Analy...   \n",
       "9                                     Data Scientist   \n",
       "\n",
       "                                            Location  \\\n",
       "0                                   Gurgaon/Gurugram   \n",
       "1  Bangalore/Bengaluru, Delhi / NCR, Mumbai (All ...   \n",
       "2                                   Gurgaon/Gurugram   \n",
       "3                                 (WFH during Covid)   \n",
       "4               Noida, Gurgaon/Gurugram, Delhi / NCR   \n",
       "5                                              Noida   \n",
       "6                                 (WFH during Covid)   \n",
       "7  Pune, Chennai, Bangalore/Bengaluru, Delhi / NC...   \n",
       "8                                   Gurgaon/Gurugram   \n",
       "9  Mohali/SAS Nagar, Hyderabad/Secunderabad, Ahme...   \n",
       "\n",
       "                               Company Name Experiences  \n",
       "0                                    CARS24     1-5 Yrs  \n",
       "1       Skillenable Fintech Private Limited     2-5 Yrs  \n",
       "2        PROCESS NINE TECHNOLOGIES PVT.LTD.     1-3 Yrs  \n",
       "3                 GABA Consultancy services     0-0 Yrs  \n",
       "4              R Systems International Ltd.     3-6 Yrs  \n",
       "5  MOTHERSONSUMI INFOTECH & DESIGNS LIMITED     3-7 Yrs  \n",
       "6                  IDESLABS PRIVATE LIMITED    5-10 Yrs  \n",
       "7             Creative Hands HR Consultancy     0-0 Yrs  \n",
       "8                 GABA Consultancy services     0-0 Yrs  \n",
       "9                Kusum Healthcare Pvt. Ltd.     4-6 Yrs  "
      ]
     },
     "execution_count": 139,
     "metadata": {},
     "output_type": "execute_result"
    }
   ],
   "source": [
    "import pandas as pd\n",
    "\n",
    "Jobs=pd.DataFrame({})\n",
    "Jobs['Title']=job_titles \n",
    "Jobs['Location']=location_titles\n",
    "Jobs['Company Name']=companies_titles \n",
    "Jobs['Experiences']=experiences\n",
    "\n",
    "Jobs"
   ]
  },
  {
   "cell_type": "raw",
   "metadata": {},
   "source": [
    "Q.4"
   ]
  },
  {
   "cell_type": "code",
   "execution_count": 140,
   "metadata": {},
   "outputs": [],
   "source": [
    "import selenium\n",
    "import pandas as pd\n",
    "from selenium import webdriver"
   ]
  },
  {
   "cell_type": "code",
   "execution_count": 159,
   "metadata": {},
   "outputs": [],
   "source": [
    "driver= webdriver.Chrome(\"chromedriver.exe\")"
   ]
  },
  {
   "cell_type": "code",
   "execution_count": 161,
   "metadata": {},
   "outputs": [],
   "source": [
    "url= \"https://www.glassdoor.co.in/member/home/index.htm\"\n",
    "driver.get(url)"
   ]
  },
  {
   "cell_type": "code",
   "execution_count": 152,
   "metadata": {},
   "outputs": [],
   "source": [
    "search_job=driver.find_element_by_id('member-home-jobalert-jobtitle-JobAlertJobTitle')\n",
    "search_job.send_keys('Data Scientist')"
   ]
  },
  {
   "cell_type": "code",
   "execution_count": 153,
   "metadata": {},
   "outputs": [
    {
     "data": {
      "text/plain": [
       "<selenium.webdriver.remote.webelement.WebElement (session=\"98ce5790a15ded94de16ef30fdea0cdf\", element=\"fa788282-6a1e-4129-b747-953d810f6ecd\")>"
      ]
     },
     "execution_count": 153,
     "metadata": {},
     "output_type": "execute_result"
    }
   ],
   "source": [
    "search_job=driver.find_element_by_xpath('//input[@class=\"css-1etjok6\"]')\n",
    "search_job"
   ]
  },
  {
   "cell_type": "code",
   "execution_count": 154,
   "metadata": {},
   "outputs": [],
   "source": [
    "search_loc=driver.find_element_by_id('member-home-jobalert-location-JobAlertLocation')\n",
    "search_loc.send_keys('Noida')"
   ]
  },
  {
   "cell_type": "code",
   "execution_count": 155,
   "metadata": {},
   "outputs": [
    {
     "data": {
      "text/plain": [
       "<selenium.webdriver.remote.webelement.WebElement (session=\"98ce5790a15ded94de16ef30fdea0cdf\", element=\"fa788282-6a1e-4129-b747-953d810f6ecd\")>"
      ]
     },
     "execution_count": 155,
     "metadata": {},
     "output_type": "execute_result"
    }
   ],
   "source": [
    "search_loc=driver.find_element_by_xpath('//input[@class=\"css-1etjok6\"]')\n",
    "search_loc"
   ]
  },
  {
   "cell_type": "raw",
   "metadata": {},
   "source": [
    "Glassdoor was giving an error to login with id after doing it. It was not giving search button. "
   ]
  },
  {
   "cell_type": "raw",
   "metadata": {},
   "source": [
    "Q.5"
   ]
  },
  {
   "cell_type": "raw",
   "metadata": {},
   "source": [
    "Glassdoor was giving an error to login with id after doing it. It was not giving search button. "
   ]
  },
  {
   "cell_type": "raw",
   "metadata": {},
   "source": [
    "Q.6"
   ]
  },
  {
   "cell_type": "code",
   "execution_count": 1,
   "metadata": {},
   "outputs": [],
   "source": [
    "import selenium\n",
    "import pandas as pd\n",
    "from selenium import webdriver"
   ]
  },
  {
   "cell_type": "code",
   "execution_count": 2,
   "metadata": {},
   "outputs": [],
   "source": [
    "driver= webdriver.Chrome(\"chromedriver.exe\")"
   ]
  },
  {
   "cell_type": "code",
   "execution_count": 3,
   "metadata": {},
   "outputs": [],
   "source": [
    "url= \"https://www.flipkart.com/\"\n",
    "driver.get(url)"
   ]
  },
  {
   "cell_type": "code",
   "execution_count": 6,
   "metadata": {},
   "outputs": [],
   "source": [
    "search_field=driver.find_element_by_xpath('//input[@class=\"_3704LK\"]')\n",
    "search_field.send_keys('sunglasses')"
   ]
  },
  {
   "cell_type": "code",
   "execution_count": 7,
   "metadata": {},
   "outputs": [],
   "source": [
    "search_btn=driver.find_element_by_xpath('//a[@class=\"IRpwTa\"]')\n",
    "search_btn.click()"
   ]
  },
  {
   "cell_type": "code",
   "execution_count": 12,
   "metadata": {},
   "outputs": [
    {
     "ename": "InvalidSelectorException",
     "evalue": "Message: invalid selector: Unable to locate an element with the xpath expression //div[@class=\"_2WkVRV] because of the following error:\nSyntaxError: Failed to execute 'evaluate' on 'Document': The string '//div[@class=\"_2WkVRV]' is not a valid XPath expression.\n  (Session info: chrome=93.0.4577.63)\n",
     "output_type": "error",
     "traceback": [
      "\u001b[1;31m---------------------------------------------------------------------------\u001b[0m",
      "\u001b[1;31mInvalidSelectorException\u001b[0m                  Traceback (most recent call last)",
      "\u001b[1;32m<ipython-input-12-7b2089995fc7>\u001b[0m in \u001b[0;36m<module>\u001b[1;34m\u001b[0m\n\u001b[1;32m----> 1\u001b[1;33m \u001b[0msunglasses_title\u001b[0m \u001b[1;33m=\u001b[0m \u001b[0mdriver\u001b[0m\u001b[1;33m.\u001b[0m\u001b[0mfind_elements_by_xpath\u001b[0m\u001b[1;33m(\u001b[0m\u001b[1;34m'//div[@class=\"_2WkVRV]'\u001b[0m\u001b[1;33m)\u001b[0m\u001b[1;33m\u001b[0m\u001b[1;33m\u001b[0m\u001b[0m\n\u001b[0m\u001b[0;32m      2\u001b[0m \u001b[0msunglasses_title\u001b[0m\u001b[1;33m\u001b[0m\u001b[1;33m\u001b[0m\u001b[0m\n",
      "\u001b[1;32m~\\anaconda3\\lib\\site-packages\\selenium\\webdriver\\remote\\webdriver.py\u001b[0m in \u001b[0;36mfind_elements_by_xpath\u001b[1;34m(self, xpath)\u001b[0m\n\u001b[0;32m    408\u001b[0m             \u001b[0melements\u001b[0m \u001b[1;33m=\u001b[0m \u001b[0mdriver\u001b[0m\u001b[1;33m.\u001b[0m\u001b[0mfind_elements_by_xpath\u001b[0m\u001b[1;33m(\u001b[0m\u001b[1;34m\"//div[contains(@class, 'foo')]\"\u001b[0m\u001b[1;33m)\u001b[0m\u001b[1;33m\u001b[0m\u001b[1;33m\u001b[0m\u001b[0m\n\u001b[0;32m    409\u001b[0m         \"\"\"\n\u001b[1;32m--> 410\u001b[1;33m         \u001b[1;32mreturn\u001b[0m \u001b[0mself\u001b[0m\u001b[1;33m.\u001b[0m\u001b[0mfind_elements\u001b[0m\u001b[1;33m(\u001b[0m\u001b[0mby\u001b[0m\u001b[1;33m=\u001b[0m\u001b[0mBy\u001b[0m\u001b[1;33m.\u001b[0m\u001b[0mXPATH\u001b[0m\u001b[1;33m,\u001b[0m \u001b[0mvalue\u001b[0m\u001b[1;33m=\u001b[0m\u001b[0mxpath\u001b[0m\u001b[1;33m)\u001b[0m\u001b[1;33m\u001b[0m\u001b[1;33m\u001b[0m\u001b[0m\n\u001b[0m\u001b[0;32m    411\u001b[0m \u001b[1;33m\u001b[0m\u001b[0m\n\u001b[0;32m    412\u001b[0m     \u001b[1;32mdef\u001b[0m \u001b[0mfind_element_by_link_text\u001b[0m\u001b[1;33m(\u001b[0m\u001b[0mself\u001b[0m\u001b[1;33m,\u001b[0m \u001b[0mlink_text\u001b[0m\u001b[1;33m)\u001b[0m\u001b[1;33m:\u001b[0m\u001b[1;33m\u001b[0m\u001b[1;33m\u001b[0m\u001b[0m\n",
      "\u001b[1;32m~\\anaconda3\\lib\\site-packages\\selenium\\webdriver\\remote\\webdriver.py\u001b[0m in \u001b[0;36mfind_elements\u001b[1;34m(self, by, value)\u001b[0m\n\u001b[0;32m   1003\u001b[0m         \u001b[1;31m# Return empty list if driver returns null\u001b[0m\u001b[1;33m\u001b[0m\u001b[1;33m\u001b[0m\u001b[1;33m\u001b[0m\u001b[0m\n\u001b[0;32m   1004\u001b[0m         \u001b[1;31m# See https://github.com/SeleniumHQ/selenium/issues/4555\u001b[0m\u001b[1;33m\u001b[0m\u001b[1;33m\u001b[0m\u001b[1;33m\u001b[0m\u001b[0m\n\u001b[1;32m-> 1005\u001b[1;33m         return self.execute(Command.FIND_ELEMENTS, {\n\u001b[0m\u001b[0;32m   1006\u001b[0m             \u001b[1;34m'using'\u001b[0m\u001b[1;33m:\u001b[0m \u001b[0mby\u001b[0m\u001b[1;33m,\u001b[0m\u001b[1;33m\u001b[0m\u001b[1;33m\u001b[0m\u001b[0m\n\u001b[0;32m   1007\u001b[0m             'value': value})['value'] or []\n",
      "\u001b[1;32m~\\anaconda3\\lib\\site-packages\\selenium\\webdriver\\remote\\webdriver.py\u001b[0m in \u001b[0;36mexecute\u001b[1;34m(self, driver_command, params)\u001b[0m\n\u001b[0;32m    319\u001b[0m         \u001b[0mresponse\u001b[0m \u001b[1;33m=\u001b[0m \u001b[0mself\u001b[0m\u001b[1;33m.\u001b[0m\u001b[0mcommand_executor\u001b[0m\u001b[1;33m.\u001b[0m\u001b[0mexecute\u001b[0m\u001b[1;33m(\u001b[0m\u001b[0mdriver_command\u001b[0m\u001b[1;33m,\u001b[0m \u001b[0mparams\u001b[0m\u001b[1;33m)\u001b[0m\u001b[1;33m\u001b[0m\u001b[1;33m\u001b[0m\u001b[0m\n\u001b[0;32m    320\u001b[0m         \u001b[1;32mif\u001b[0m \u001b[0mresponse\u001b[0m\u001b[1;33m:\u001b[0m\u001b[1;33m\u001b[0m\u001b[1;33m\u001b[0m\u001b[0m\n\u001b[1;32m--> 321\u001b[1;33m             \u001b[0mself\u001b[0m\u001b[1;33m.\u001b[0m\u001b[0merror_handler\u001b[0m\u001b[1;33m.\u001b[0m\u001b[0mcheck_response\u001b[0m\u001b[1;33m(\u001b[0m\u001b[0mresponse\u001b[0m\u001b[1;33m)\u001b[0m\u001b[1;33m\u001b[0m\u001b[1;33m\u001b[0m\u001b[0m\n\u001b[0m\u001b[0;32m    322\u001b[0m             response['value'] = self._unwrap_value(\n\u001b[0;32m    323\u001b[0m                 response.get('value', None))\n",
      "\u001b[1;32m~\\anaconda3\\lib\\site-packages\\selenium\\webdriver\\remote\\errorhandler.py\u001b[0m in \u001b[0;36mcheck_response\u001b[1;34m(self, response)\u001b[0m\n\u001b[0;32m    240\u001b[0m                 \u001b[0malert_text\u001b[0m \u001b[1;33m=\u001b[0m \u001b[0mvalue\u001b[0m\u001b[1;33m[\u001b[0m\u001b[1;34m'alert'\u001b[0m\u001b[1;33m]\u001b[0m\u001b[1;33m.\u001b[0m\u001b[0mget\u001b[0m\u001b[1;33m(\u001b[0m\u001b[1;34m'text'\u001b[0m\u001b[1;33m)\u001b[0m\u001b[1;33m\u001b[0m\u001b[1;33m\u001b[0m\u001b[0m\n\u001b[0;32m    241\u001b[0m             \u001b[1;32mraise\u001b[0m \u001b[0mexception_class\u001b[0m\u001b[1;33m(\u001b[0m\u001b[0mmessage\u001b[0m\u001b[1;33m,\u001b[0m \u001b[0mscreen\u001b[0m\u001b[1;33m,\u001b[0m \u001b[0mstacktrace\u001b[0m\u001b[1;33m,\u001b[0m \u001b[0malert_text\u001b[0m\u001b[1;33m)\u001b[0m\u001b[1;33m\u001b[0m\u001b[1;33m\u001b[0m\u001b[0m\n\u001b[1;32m--> 242\u001b[1;33m         \u001b[1;32mraise\u001b[0m \u001b[0mexception_class\u001b[0m\u001b[1;33m(\u001b[0m\u001b[0mmessage\u001b[0m\u001b[1;33m,\u001b[0m \u001b[0mscreen\u001b[0m\u001b[1;33m,\u001b[0m \u001b[0mstacktrace\u001b[0m\u001b[1;33m)\u001b[0m\u001b[1;33m\u001b[0m\u001b[1;33m\u001b[0m\u001b[0m\n\u001b[0m\u001b[0;32m    243\u001b[0m \u001b[1;33m\u001b[0m\u001b[0m\n\u001b[0;32m    244\u001b[0m     \u001b[1;32mdef\u001b[0m \u001b[0m_value_or_default\u001b[0m\u001b[1;33m(\u001b[0m\u001b[0mself\u001b[0m\u001b[1;33m,\u001b[0m \u001b[0mobj\u001b[0m\u001b[1;33m,\u001b[0m \u001b[0mkey\u001b[0m\u001b[1;33m,\u001b[0m \u001b[0mdefault\u001b[0m\u001b[1;33m)\u001b[0m\u001b[1;33m:\u001b[0m\u001b[1;33m\u001b[0m\u001b[1;33m\u001b[0m\u001b[0m\n",
      "\u001b[1;31mInvalidSelectorException\u001b[0m: Message: invalid selector: Unable to locate an element with the xpath expression //div[@class=\"_2WkVRV] because of the following error:\nSyntaxError: Failed to execute 'evaluate' on 'Document': The string '//div[@class=\"_2WkVRV]' is not a valid XPath expression.\n  (Session info: chrome=93.0.4577.63)\n"
     ]
    }
   ],
   "source": [
    "sunglasses_title = driver.find_elements_by_xpath('//div[@class=\"_2WkVRV]')\n",
    "sunglasses_title"
   ]
  },
  {
   "cell_type": "code",
   "execution_count": 13,
   "metadata": {},
   "outputs": [
    {
     "data": {
      "text/plain": [
       "0"
      ]
     },
     "execution_count": 13,
     "metadata": {},
     "output_type": "execute_result"
    }
   ],
   "source": [
    "len(sunglasses_title)"
   ]
  },
  {
   "cell_type": "raw",
   "metadata": {},
   "source": [
    "Q.7"
   ]
  },
  {
   "cell_type": "code",
   "execution_count": 14,
   "metadata": {},
   "outputs": [],
   "source": [
    "import selenium\n",
    "import pandas as pd\n",
    "from selenium import webdriver"
   ]
  },
  {
   "cell_type": "code",
   "execution_count": 15,
   "metadata": {},
   "outputs": [],
   "source": [
    "driver= webdriver.Chrome(\"chromedriver.exe\")"
   ]
  },
  {
   "cell_type": "code",
   "execution_count": 16,
   "metadata": {},
   "outputs": [],
   "source": [
    "url= \"https://www.flipkart.com/apple-iphone-11-black-64-gb-includes-earpods-power-adapter/p/itm0f37c2240b217?pid=MOBFKCTSVZAXUHGR&lid=LSTMOBFKCTSVZAXUHGREPBFGI&marketplace\"\n",
    "driver.get(url)"
   ]
  },
  {
   "cell_type": "code",
   "execution_count": 25,
   "metadata": {},
   "outputs": [
    {
     "data": {
      "text/plain": [
       "[<selenium.webdriver.remote.webelement.WebElement (session=\"68d1bbe3f3ca149975ec8f376a05d463\", element=\"d594f15a-0380-40ad-af5f-e00deb0fbd07\")>,\n",
       " <selenium.webdriver.remote.webelement.WebElement (session=\"68d1bbe3f3ca149975ec8f376a05d463\", element=\"608d7884-1a99-4729-98f3-81abcae2fdca\")>,\n",
       " <selenium.webdriver.remote.webelement.WebElement (session=\"68d1bbe3f3ca149975ec8f376a05d463\", element=\"204f0631-c867-4c75-b413-10085ff551d8\")>,\n",
       " <selenium.webdriver.remote.webelement.WebElement (session=\"68d1bbe3f3ca149975ec8f376a05d463\", element=\"aa98647a-dcd9-4906-a375-261217be83d8\")>,\n",
       " <selenium.webdriver.remote.webelement.WebElement (session=\"68d1bbe3f3ca149975ec8f376a05d463\", element=\"29fc70f7-890a-455c-be1e-117ed57e53cd\")>,\n",
       " <selenium.webdriver.remote.webelement.WebElement (session=\"68d1bbe3f3ca149975ec8f376a05d463\", element=\"60755f90-fc4a-429f-a286-b57a3150c420\")>,\n",
       " <selenium.webdriver.remote.webelement.WebElement (session=\"68d1bbe3f3ca149975ec8f376a05d463\", element=\"b92853de-a5c9-43c5-aee6-6f47aab62077\")>,\n",
       " <selenium.webdriver.remote.webelement.WebElement (session=\"68d1bbe3f3ca149975ec8f376a05d463\", element=\"756f5356-eea7-40a8-8e03-37b2aaeaa848\")>,\n",
       " <selenium.webdriver.remote.webelement.WebElement (session=\"68d1bbe3f3ca149975ec8f376a05d463\", element=\"9b8104d2-28e6-45b4-82a3-cee494c8e34f\")>,\n",
       " <selenium.webdriver.remote.webelement.WebElement (session=\"68d1bbe3f3ca149975ec8f376a05d463\", element=\"f16f0a1b-d6d2-4832-87e1-e2ba8731233b\")>]"
      ]
     },
     "execution_count": 25,
     "metadata": {},
     "output_type": "execute_result"
    }
   ],
   "source": [
    "rating_page1= driver.find_elements_by_xpath('//div[@class=\"_3LWZlK _1BLPMq\"]')\n",
    "rating_page1"
   ]
  },
  {
   "cell_type": "code",
   "execution_count": 26,
   "metadata": {},
   "outputs": [
    {
     "data": {
      "text/plain": [
       "10"
      ]
     },
     "execution_count": 26,
     "metadata": {},
     "output_type": "execute_result"
    }
   ],
   "source": [
    "len(rating_page1)"
   ]
  },
  {
   "cell_type": "code",
   "execution_count": 22,
   "metadata": {},
   "outputs": [
    {
     "data": {
      "text/plain": [
       "[<selenium.webdriver.remote.webelement.WebElement (session=\"68d1bbe3f3ca149975ec8f376a05d463\", element=\"d594f15a-0380-40ad-af5f-e00deb0fbd07\")>,\n",
       " <selenium.webdriver.remote.webelement.WebElement (session=\"68d1bbe3f3ca149975ec8f376a05d463\", element=\"608d7884-1a99-4729-98f3-81abcae2fdca\")>,\n",
       " <selenium.webdriver.remote.webelement.WebElement (session=\"68d1bbe3f3ca149975ec8f376a05d463\", element=\"204f0631-c867-4c75-b413-10085ff551d8\")>,\n",
       " <selenium.webdriver.remote.webelement.WebElement (session=\"68d1bbe3f3ca149975ec8f376a05d463\", element=\"aa98647a-dcd9-4906-a375-261217be83d8\")>,\n",
       " <selenium.webdriver.remote.webelement.WebElement (session=\"68d1bbe3f3ca149975ec8f376a05d463\", element=\"29fc70f7-890a-455c-be1e-117ed57e53cd\")>,\n",
       " <selenium.webdriver.remote.webelement.WebElement (session=\"68d1bbe3f3ca149975ec8f376a05d463\", element=\"60755f90-fc4a-429f-a286-b57a3150c420\")>,\n",
       " <selenium.webdriver.remote.webelement.WebElement (session=\"68d1bbe3f3ca149975ec8f376a05d463\", element=\"b92853de-a5c9-43c5-aee6-6f47aab62077\")>,\n",
       " <selenium.webdriver.remote.webelement.WebElement (session=\"68d1bbe3f3ca149975ec8f376a05d463\", element=\"756f5356-eea7-40a8-8e03-37b2aaeaa848\")>,\n",
       " <selenium.webdriver.remote.webelement.WebElement (session=\"68d1bbe3f3ca149975ec8f376a05d463\", element=\"9b8104d2-28e6-45b4-82a3-cee494c8e34f\")>,\n",
       " <selenium.webdriver.remote.webelement.WebElement (session=\"68d1bbe3f3ca149975ec8f376a05d463\", element=\"f16f0a1b-d6d2-4832-87e1-e2ba8731233b\")>]"
      ]
     },
     "execution_count": 22,
     "metadata": {},
     "output_type": "execute_result"
    }
   ],
   "source": [
    "rating_page2=driver.find_elements_by_xpath('//div[@class=\"_3LWZlK _1BLPMq\"]')\n",
    "rating_page2"
   ]
  },
  {
   "cell_type": "code",
   "execution_count": 27,
   "metadata": {},
   "outputs": [
    {
     "data": {
      "text/plain": [
       "10"
      ]
     },
     "execution_count": 27,
     "metadata": {},
     "output_type": "execute_result"
    }
   ],
   "source": [
    "len(rating_page2)"
   ]
  },
  {
   "cell_type": "code",
   "execution_count": 30,
   "metadata": {},
   "outputs": [
    {
     "ename": "SyntaxError",
     "evalue": "invalid syntax (<ipython-input-30-7215aebb1988>, line 1)",
     "output_type": "error",
     "traceback": [
      "\u001b[1;36m  File \u001b[1;32m\"<ipython-input-30-7215aebb1988>\"\u001b[1;36m, line \u001b[1;32m1\u001b[0m\n\u001b[1;33m    for i in range(1:11):\u001b[0m\n\u001b[1;37m                    ^\u001b[0m\n\u001b[1;31mSyntaxError\u001b[0m\u001b[1;31m:\u001b[0m invalid syntax\n"
     ]
    }
   ],
   "source": [
    "for i in range(1:11):\n",
    "    rating_pages=driver.find_elements_by_xpath('//div[@class=\"_3LWZlK _1BLPMq\"]')\n",
    "    for i in rating_page1:\n",
    "        rating_pages.append(i.text)\n",
    "rating_pages\n",
    "\n",
    "next_button= driver.find_element_by_xpath('//a[@class=\"_1LKTO3\"]')\n",
    "next_button.click()\n",
    "\n"
   ]
  },
  {
   "cell_type": "code",
   "execution_count": null,
   "metadata": {},
   "outputs": [],
   "source": []
  }
 ],
 "metadata": {
  "kernelspec": {
   "display_name": "Python 3",
   "language": "python",
   "name": "python3"
  },
  "language_info": {
   "codemirror_mode": {
    "name": "ipython",
    "version": 3
   },
   "file_extension": ".py",
   "mimetype": "text/x-python",
   "name": "python",
   "nbconvert_exporter": "python",
   "pygments_lexer": "ipython3",
   "version": "3.8.5"
  }
 },
 "nbformat": 4,
 "nbformat_minor": 4
}
