{
 "cells": [
  {
   "cell_type": "markdown",
   "metadata": {},
   "source": [
    "# Internship Python WorkSheet 1"
   ]
  },
  {
   "cell_type": "raw",
   "metadata": {},
   "source": [
    "11. Write a python program to find the factorial of a number"
   ]
  },
  {
   "cell_type": "code",
   "execution_count": 1,
   "metadata": {},
   "outputs": [
    {
     "name": "stdout",
     "output_type": "stream",
     "text": [
      "Enter a number10\n",
      "The factorial of 10 is 1\n",
      "The factorial of 10 is 2\n",
      "The factorial of 10 is 6\n",
      "The factorial of 10 is 24\n",
      "The factorial of 10 is 120\n",
      "The factorial of 10 is 720\n",
      "The factorial of 10 is 5040\n",
      "The factorial of 10 is 40320\n",
      "The factorial of 10 is 362880\n",
      "The factorial of 10 is 3628800\n"
     ]
    }
   ],
   "source": [
    "num = int(input(\"Enter a number\"))\n",
    "\n",
    "factorial = 1\n",
    "if num<0:\n",
    "    print(\"Factorial does not exist for negative numbers\")\n",
    "\n",
    "elif num == 0:\n",
    "    print('The factorial of 0 is 1')\n",
    "    \n",
    "else:\n",
    "    for i in range(1, num + 1):\n",
    "        factorial = factorial*i\n",
    "        print(\"The factorial of\",num,\"is\",factorial)"
   ]
  },
  {
   "cell_type": "raw",
   "metadata": {},
   "source": [
    "12.\tWrite a python program to find whether a number is prime or composite."
   ]
  },
  {
   "cell_type": "code",
   "execution_count": 2,
   "metadata": {},
   "outputs": [
    {
     "ename": "SyntaxError",
     "evalue": "invalid syntax (<ipython-input-2-0756aab68816>, line 7)",
     "output_type": "error",
     "traceback": [
      "\u001b[1;36m  File \u001b[1;32m\"<ipython-input-2-0756aab68816>\"\u001b[1;36m, line \u001b[1;32m7\u001b[0m\n\u001b[1;33m    print(num.\"is not a prime number\")\u001b[0m\n\u001b[1;37m              ^\u001b[0m\n\u001b[1;31mSyntaxError\u001b[0m\u001b[1;31m:\u001b[0m invalid syntax\n"
     ]
    }
   ],
   "source": [
    "num = int(input(\"Enter a number:\")) \n",
    "\n",
    "if num >1:\n",
    "    for i in range(2,num):\n",
    "        if(num%i)==0:\n",
    "            \n",
    "            print(num.\"is not a prime number\")\n",
    "            print(i,\"times\",num//i,\"is\",num)\n",
    "            break\n",
    "            \n",
    "            else:\n",
    "                print(num.\"is a prime number\")\n",
    "                \n",
    "            else:\n",
    "                print(num,\"is not a prime number\")"
   ]
  },
  {
   "cell_type": "raw",
   "metadata": {},
   "source": [
    "13.\tWrite a python program to check whether a given string is palindrome or not"
   ]
  },
  {
   "cell_type": "code",
   "execution_count": 3,
   "metadata": {},
   "outputs": [
    {
     "name": "stdout",
     "output_type": "stream",
     "text": [
      "Enter string5\n",
      "Palindrome string\n"
     ]
    }
   ],
   "source": [
    "a=input(\"Enter string\")\n",
    "b=a[-1::-1]\n",
    "if(a==b):\n",
    "    print('Palindrome string')\n",
    "else:\n",
    "    print(\"Not Palindrome string\")"
   ]
  },
  {
   "cell_type": "raw",
   "metadata": {},
   "source": [
    "14.\tWrite a Python program to get the third side of right-angled triangle from two given sides"
   ]
  },
  {
   "cell_type": "code",
   "execution_count": 4,
   "metadata": {},
   "outputs": [
    {
     "name": "stdout",
     "output_type": "stream",
     "text": [
      "a: 3\n",
      "b: 4\n",
      "The length of the hypotenuse is: 5.0\n"
     ]
    }
   ],
   "source": [
    "from math import sqrt\n",
    "a:3\n",
    "b:4    \n",
    "\n",
    "a= int(input(\"a: \"))\n",
    "b=int(input(\"b: \"))\n",
    "\n",
    "c=sqrt(a**2+b**2)\n",
    "print(\"The length of the hypotenuse is:\",c)"
   ]
  },
  {
   "cell_type": "raw",
   "metadata": {},
   "source": [
    "15.\tWrite a python program to print the frequency of each of the characters present in a given string."
   ]
  },
  {
   "cell_type": "code",
   "execution_count": 6,
   "metadata": {},
   "outputs": [],
   "source": [
    "from collections import Counter"
   ]
  },
  {
   "cell_type": "code",
   "execution_count": 7,
   "metadata": {},
   "outputs": [
    {
     "name": "stdout",
     "output_type": "stream",
     "text": [
      "Count of all characters in GeeksofGeeks is :\n",
      "Counter({'e': 4, 'G': 2, 'k': 2, 'f': 1, 'o': 1, 'r': 1, 's': 1})\n"
     ]
    }
   ],
   "source": [
    "a=\"GeekforGeeks\"\n",
    "\n",
    "result=Counter(a)\n",
    "\n",
    "print(\"Count of all characters in GeeksofGeeks is :\\n\" + str(result))"
   ]
  },
  {
   "cell_type": "code",
   "execution_count": null,
   "metadata": {},
   "outputs": [],
   "source": []
  }
 ],
 "metadata": {
  "kernelspec": {
   "display_name": "Python 3",
   "language": "python",
   "name": "python3"
  },
  "language_info": {
   "codemirror_mode": {
    "name": "ipython",
    "version": 3
   },
   "file_extension": ".py",
   "mimetype": "text/x-python",
   "name": "python",
   "nbconvert_exporter": "python",
   "pygments_lexer": "ipython3",
   "version": "3.8.5"
  }
 },
 "nbformat": 4,
 "nbformat_minor": 4
}
